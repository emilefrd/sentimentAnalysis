{
 "cells": [
  {
   "cell_type": "code",
   "execution_count": 59,
   "id": "79a32ce6",
   "metadata": {},
   "outputs": [
    {
     "data": {
      "text/html": [
       "<div>\n",
       "<style scoped>\n",
       "    .dataframe tbody tr th:only-of-type {\n",
       "        vertical-align: middle;\n",
       "    }\n",
       "\n",
       "    .dataframe tbody tr th {\n",
       "        vertical-align: top;\n",
       "    }\n",
       "\n",
       "    .dataframe thead th {\n",
       "        text-align: right;\n",
       "    }\n",
       "</style>\n",
       "<table border=\"1\" class=\"dataframe\">\n",
       "  <thead>\n",
       "    <tr style=\"text-align: right;\">\n",
       "      <th></th>\n",
       "      <th>film-url</th>\n",
       "      <th>review</th>\n",
       "      <th>polarity</th>\n",
       "    </tr>\n",
       "  </thead>\n",
       "  <tbody>\n",
       "    <tr>\n",
       "      <th>0</th>\n",
       "      <td>http://www.allocine.fr/film/fichefilm-25385/critiques/spectateurs</td>\n",
       "      <td>Magnifique épopée, une belle histoire, touchante avec des acteurs qui interprètent très bien leur rôles (Mel Gibson, Heath Ledger, Jason Isaacs...), le genre de film qui se savoure en famille! :)</td>\n",
       "      <td>1</td>\n",
       "    </tr>\n",
       "  </tbody>\n",
       "</table>\n",
       "</div>"
      ],
      "text/plain": [
       "                                                            film-url  \\\n",
       "0  http://www.allocine.fr/film/fichefilm-25385/critiques/spectateurs   \n",
       "\n",
       "                                                                                                                                                                                                review  \\\n",
       "0  Magnifique épopée, une belle histoire, touchante avec des acteurs qui interprètent très bien leur rôles (Mel Gibson, Heath Ledger, Jason Isaacs...), le genre de film qui se savoure en famille! :)   \n",
       "\n",
       "   polarity  \n",
       "0         1  "
      ]
     },
     "execution_count": 59,
     "metadata": {},
     "output_type": "execute_result"
    }
   ],
   "source": [
    "import os\n",
    "import pandas as pd\n",
    "import numpy as np\n",
    "import pickle\n",
    "\n",
    "import tensorflow as tf\n",
    "from tensorflow.keras.preprocessing.sequence import pad_sequences\n",
    "from sklearn.metrics import classification_report\n",
    "from sklearn.metrics import confusion_matrix\n",
    "from gensim.utils import simple_preprocess\n",
    "\n",
    "import matplotlib.pyplot as plt\n",
    "import seaborn as sns\n",
    "pd.set_option('display.max_colwidth', None) \n",
    "\n",
    "\n",
    "df = pd.read_pickle('data/allocine_dataset.pickle')\n",
    "df_train = df['train_set']\n",
    "df_val = df['val_set']\n",
    "df_test = df['test_set']\n",
    "df_test.head(1)"
   ]
  },
  {
   "cell_type": "markdown",
   "id": "db31d5fa",
   "metadata": {},
   "source": [
    "## I. Word2Vec\n",
    "\n",
    "Il existe deux variantes du Word2vec, les deux utilisent un réseau de neurones à 3 couches (1 couche d’entrée, 1 couche cachée, 1 couche de sortie) : Common Bag Of Words (CBOW) et Skip-gram.\n",
    "\n",
    "On s'intéresse ici à CBOW : Le modèle est nourri par le contexte, et prédit le mot cible.\n",
    "\n",
    "Tout d'abord, après avoir preprocessé le texte (lowercases & tokenizes), il nous faut entraîner le tokenizer sur le train set."
   ]
  },
  {
   "cell_type": "code",
   "execution_count": 60,
   "id": "ddbc3780",
   "metadata": {},
   "outputs": [],
   "source": [
    "# Tokenize the text column to get the new column 'tokenized_text'\n",
    "df_train['tk_review'] = df_train['review'].apply(lambda x : simple_preprocess(x)) \n",
    "df_val['tk_review'] = df_val['review'].apply(lambda x : simple_preprocess(x)) \n",
    "df_test['tk_review'] = df_test['review'].apply(lambda x : simple_preprocess(x)) "
   ]
  },
  {
   "cell_type": "markdown",
   "id": "77c45fbc",
   "metadata": {},
   "source": [
    "Maintenant que le texte est nettoyé, nous pouvons procéder à l'encodage de celui-ci. Pour faire cela, nous utilisons la classe Tokenizer de Keras. "
   ]
  },
  {
   "cell_type": "code",
   "execution_count": 17,
   "id": "e61e28d7",
   "metadata": {},
   "outputs": [
    {
     "name": "stderr",
     "output_type": "stream",
     "text": [
      "2022-05-30 14:57:40.758596: W tensorflow/stream_executor/platform/default/dso_loader.cc:64] Could not load dynamic library 'libcudart.so.11.0'; dlerror: libcudart.so.11.0: cannot open shared object file: No such file or directory\n",
      "2022-05-30 14:57:40.758611: I tensorflow/stream_executor/cuda/cudart_stub.cc:29] Ignore above cudart dlerror if you do not have a GPU set up on your machine.\n"
     ]
    },
    {
     "name": "stdout",
     "output_type": "stream",
     "text": [
      "Found 186308 unique tokens.\n"
     ]
    }
   ],
   "source": [
    "# tweak this params to get better results for a given dataset\n",
    "MAX_CORPUS_SIZE = 50000\n",
    "\n",
    "tokenizer = tf.keras.preprocessing.text.Tokenizer(num_words=MAX_CORPUS_SIZE, oov_token=\"<unk>\")\n",
    "tokenizer.fit_on_texts(df_train['review'])\n",
    "\n",
    "print(f\"Unique tokens: {len(tokenizer.word_index)}\")"
   ]
  },
  {
   "cell_type": "code",
   "execution_count": 56,
   "id": "b8d86f12",
   "metadata": {},
   "outputs": [],
   "source": [
    "# saving tokenizer\n",
    "with open('tokenizer.pickle', 'wb') as handle:\n",
    "    pickle.dump(tokenizer, handle, protocol=pickle.HIGHEST_PROTOCOL)"
   ]
  },
  {
   "cell_type": "code",
   "execution_count": 18,
   "id": "3fd20e28",
   "metadata": {},
   "outputs": [],
   "source": [
    "train_reviews_tokenized = tokenizer.texts_to_sequences(df_train['review'])\n",
    "val_reviews_tokenized = tokenizer.texts_to_sequences(df_val['review'])\n",
    "test_reviews_tokenized = tokenizer.texts_to_sequences(df_test['review'])"
   ]
  },
  {
   "cell_type": "markdown",
   "id": "76a013a4",
   "metadata": {},
   "source": [
    "Il est important de réaliser le padding des différentes reviews afin d'avoir la même input size pour chacune d'entre elle. On calcule la longueur de chacune et on décide du threshold."
   ]
  },
  {
   "cell_type": "code",
   "execution_count": 13,
   "id": "84f8259e",
   "metadata": {},
   "outputs": [
    {
     "data": {
      "text/plain": [
       "count    200000.000000\n",
       "mean         91.479345\n",
       "std          75.830984\n",
       "min           0.000000\n",
       "25%          33.000000\n",
       "50%          66.000000\n",
       "75%         130.000000\n",
       "95%         255.000000\n",
       "99%         321.000000\n",
       "99.9%       347.000000\n",
       "max         389.000000\n",
       "dtype: float64"
      ]
     },
     "execution_count": 13,
     "metadata": {},
     "output_type": "execute_result"
    }
   ],
   "source": [
    "reviews_len = [len(s) for s in train_reviews_tokenized+val_reviews_tokenized+test_reviews_tokenized]\n",
    "reviews_len = pd.Series(reviews_len)\n",
    "reviews_len.describe(percentiles=[.25, .50, .75, 0.95, 0.99, 0.999])"
   ]
  },
  {
   "cell_type": "markdown",
   "id": "067a7fa3",
   "metadata": {},
   "source": [
    "99.9% des valeurs sont inférieur à 347. On retient donc comme longueur maximale d'une review 350."
   ]
  },
  {
   "cell_type": "code",
   "execution_count": 19,
   "id": "3c55ead9",
   "metadata": {},
   "outputs": [],
   "source": [
    "MAX_LEN = 350\n",
    "\n",
    "X_train = pad_sequences(train_reviews_tokenized, maxlen=MAX_LEN, padding='post')\n",
    "X_val = pad_sequences(val_reviews_tokenized, maxlen=MAX_LEN, padding='post')\n",
    "X_test = pad_sequences(test_reviews_tokenized, maxlen=MAX_LEN, padding='post')\n",
    "\n",
    "y_train = np.array(df_train['polarity'])\n",
    "y_val = np.array(df_val['polarity'])\n",
    "y_test = np.array(df_test['polarity'])"
   ]
  },
  {
   "cell_type": "markdown",
   "id": "afdd039a",
   "metadata": {},
   "source": [
    "Désormais, on construit l'architecture du modele Word2Vec grâce à Keras et aux modules : models et layers."
   ]
  },
  {
   "cell_type": "code",
   "execution_count": 61,
   "id": "53026473",
   "metadata": {},
   "outputs": [
    {
     "name": "stderr",
     "output_type": "stream",
     "text": [
      "2022-05-30 16:47:03.765798: I tensorflow/stream_executor/cuda/cuda_gpu_executor.cc:939] successful NUMA node read from SysFS had negative value (-1), but there must be at least one NUMA node, so returning NUMA node zero\n",
      "2022-05-30 16:47:03.766655: W tensorflow/stream_executor/platform/default/dso_loader.cc:64] Could not load dynamic library 'libcudart.so.11.0'; dlerror: libcudart.so.11.0: cannot open shared object file: No such file or directory\n",
      "2022-05-30 16:47:03.766737: W tensorflow/stream_executor/platform/default/dso_loader.cc:64] Could not load dynamic library 'libcublas.so.11'; dlerror: libcublas.so.11: cannot open shared object file: No such file or directory\n",
      "2022-05-30 16:47:03.766806: W tensorflow/stream_executor/platform/default/dso_loader.cc:64] Could not load dynamic library 'libcublasLt.so.11'; dlerror: libcublasLt.so.11: cannot open shared object file: No such file or directory\n",
      "2022-05-30 16:47:03.766893: W tensorflow/stream_executor/platform/default/dso_loader.cc:64] Could not load dynamic library 'libcufft.so.10'; dlerror: libcufft.so.10: cannot open shared object file: No such file or directory\n",
      "2022-05-30 16:47:03.766965: W tensorflow/stream_executor/platform/default/dso_loader.cc:64] Could not load dynamic library 'libcurand.so.10'; dlerror: libcurand.so.10: cannot open shared object file: No such file or directory\n",
      "2022-05-30 16:47:03.767034: W tensorflow/stream_executor/platform/default/dso_loader.cc:64] Could not load dynamic library 'libcusolver.so.11'; dlerror: libcusolver.so.11: cannot open shared object file: No such file or directory\n",
      "2022-05-30 16:47:03.767100: W tensorflow/stream_executor/platform/default/dso_loader.cc:64] Could not load dynamic library 'libcusparse.so.11'; dlerror: libcusparse.so.11: cannot open shared object file: No such file or directory\n",
      "2022-05-30 16:47:03.767164: W tensorflow/stream_executor/platform/default/dso_loader.cc:64] Could not load dynamic library 'libcudnn.so.8'; dlerror: libcudnn.so.8: cannot open shared object file: No such file or directory\n",
      "2022-05-30 16:47:03.767177: W tensorflow/core/common_runtime/gpu/gpu_device.cc:1850] Cannot dlopen some GPU libraries. Please make sure the missing libraries mentioned above are installed properly if you would like to use GPU. Follow the guide at https://www.tensorflow.org/install/gpu for how to download and setup the required libraries for your platform.\n",
      "Skipping registering GPU devices...\n",
      "2022-05-30 16:47:03.768005: I tensorflow/core/platform/cpu_feature_guard.cc:151] This TensorFlow binary is optimized with oneAPI Deep Neural Network Library (oneDNN) to use the following CPU instructions in performance-critical operations:  AVX2 AVX512F FMA\n",
      "To enable them in other operations, rebuild TensorFlow with the appropriate compiler flags.\n"
     ]
    }
   ],
   "source": [
    "from tensorflow.keras.models import Sequential\n",
    "from tensorflow.keras.layers import Embedding, GlobalAveragePooling1D, Dense\n",
    "\n",
    "model = Sequential(name='Word2Vec')\n",
    "model.add(Embedding(MAX_CORPUS_SIZE, 300, input_shape=[None]),)\n",
    "model.add(GlobalAveragePooling1D())\n",
    "model.add(Dense(1, activation=\"sigmoid\"))"
   ]
  },
  {
   "cell_type": "code",
   "execution_count": 53,
   "id": "284c4eea",
   "metadata": {},
   "outputs": [],
   "source": [
    "# we can tweak this also, but usually adam gives good results\n",
    "model.compile(\n",
    "    loss=\"binary_crossentropy\",\n",
    "    optimizer=\"adam\",\n",
    "    metrics=[\"accuracy\"]\n",
    ")"
   ]
  },
  {
   "cell_type": "code",
   "execution_count": 54,
   "id": "3db88aef",
   "metadata": {},
   "outputs": [
    {
     "name": "stdout",
     "output_type": "stream",
     "text": [
      "Epoch 1/10\n",
      "1250/1250 [==============================] - ETA: 0s - loss: 0.4198 - accuracy: 0.8417\n",
      "Epoch 00001: val_loss improved from inf to 0.25957, saving model to data/cbow_weights.hdf5\n",
      "1250/1250 [==============================] - 162s 130ms/step - loss: 0.4198 - accuracy: 0.8417 - val_loss: 0.2596 - val_accuracy: 0.9119\n",
      "Epoch 2/10\n",
      "1250/1250 [==============================] - ETA: 0s - loss: 0.2211 - accuracy: 0.9224\n",
      "Epoch 00002: val_loss improved from 0.25957 to 0.21075, saving model to data/cbow_weights.hdf5\n",
      "1250/1250 [==============================] - 161s 129ms/step - loss: 0.2211 - accuracy: 0.9224 - val_loss: 0.2108 - val_accuracy: 0.9254\n",
      "Epoch 3/10\n",
      "1250/1250 [==============================] - ETA: 0s - loss: 0.1795 - accuracy: 0.9346\n",
      "Epoch 00003: val_loss improved from 0.21075 to 0.20091, saving model to data/cbow_weights.hdf5\n",
      "1250/1250 [==============================] - 185s 148ms/step - loss: 0.1795 - accuracy: 0.9346 - val_loss: 0.2009 - val_accuracy: 0.9291\n",
      "Epoch 4/10\n",
      "1250/1250 [==============================] - ETA: 0s - loss: 0.1574 - accuracy: 0.9429\n",
      "Epoch 00004: val_loss did not improve from 0.20091\n",
      "1250/1250 [==============================] - 187s 149ms/step - loss: 0.1574 - accuracy: 0.9429 - val_loss: 0.2068 - val_accuracy: 0.9260\n",
      "Epoch 5/10\n",
      "1250/1250 [==============================] - ETA: 0s - loss: 0.1413 - accuracy: 0.9492\n",
      "Epoch 00005: val_loss did not improve from 0.20091\n",
      "1250/1250 [==============================] - 174s 139ms/step - loss: 0.1413 - accuracy: 0.9492 - val_loss: 0.2044 - val_accuracy: 0.9292\n",
      "Epoch 6/10\n",
      "1250/1250 [==============================] - ETA: 0s - loss: 0.1292 - accuracy: 0.9538\n",
      "Epoch 00006: val_loss did not improve from 0.20091\n",
      "1250/1250 [==============================] - 186s 149ms/step - loss: 0.1292 - accuracy: 0.9538 - val_loss: 0.2129 - val_accuracy: 0.9283\n",
      "Epoch 7/10\n",
      "1250/1250 [==============================] - ETA: 0s - loss: 0.1191 - accuracy: 0.9577\n",
      "Epoch 00007: val_loss did not improve from 0.20091\n",
      "1250/1250 [==============================] - 173s 139ms/step - loss: 0.1191 - accuracy: 0.9577 - val_loss: 0.2252 - val_accuracy: 0.9234\n",
      "Epoch 8/10\n",
      "1250/1250 [==============================] - ETA: 0s - loss: 0.1107 - accuracy: 0.9613\n",
      "Epoch 00008: val_loss did not improve from 0.20091\n",
      "1250/1250 [==============================] - 174s 139ms/step - loss: 0.1107 - accuracy: 0.9613 - val_loss: 0.2250 - val_accuracy: 0.9258\n",
      "Epoch 9/10\n",
      "1250/1250 [==============================] - ETA: 0s - loss: 0.1032 - accuracy: 0.9639\n",
      "Epoch 00009: val_loss did not improve from 0.20091\n",
      "1250/1250 [==============================] - 184s 147ms/step - loss: 0.1032 - accuracy: 0.9639 - val_loss: 0.2355 - val_accuracy: 0.9245\n",
      "Epoch 10/10\n",
      "1250/1250 [==============================] - ETA: 0s - loss: 0.0964 - accuracy: 0.9666\n",
      "Epoch 00010: val_loss did not improve from 0.20091\n",
      "1250/1250 [==============================] - 176s 141ms/step - loss: 0.0964 - accuracy: 0.9666 - val_loss: 0.2429 - val_accuracy: 0.9237\n"
     ]
    }
   ],
   "source": [
    "# save only best model\n",
    "checkpointer = tf.keras.callbacks.ModelCheckpoint(\n",
    "    filepath='data/cbow_weights.hdf5', save_best_only=True, verbose=1\n",
    ")\n",
    "\n",
    "# train model\n",
    "history = model.fit(\n",
    "    X_train, y_train, validation_data=(X_val, y_val),\n",
    "    epochs=10, batch_size=128, callbacks=[checkpointer], verbose=1)"
   ]
  },
  {
   "cell_type": "code",
   "execution_count": 60,
   "id": "dfc7e582",
   "metadata": {},
   "outputs": [
    {
     "data": {
      "image/png": "[encoded data removed]",
      "text/plain": [
       "<Figure size 864x360 with 2 Axes>"
      ]
     },
     "metadata": {},
     "output_type": "display_data"
    }
   ],
   "source": [
    "# plot results\n",
    "fig, (ax1, ax2) = plt.subplots(1, 2, figsize=(12, 5))\n",
    "\n",
    "# plot accuracies\n",
    "ax1.plot(history.history['accuracy'])\n",
    "ax1.plot(history.history['val_accuracy'])\n",
    "ax1.set_title('Model accuracy')\n",
    "ax1.set_ylabel('Accuracy')\n",
    "ax1.set_xlabel('Epoch')\n",
    "ax1.legend(['Train', 'Val'], loc='upper left')\n",
    "\n",
    "# plot losses\n",
    "ax2.plot(history.history['loss'])\n",
    "ax2.plot(history.history['val_loss'])\n",
    "ax2.set_title('Model loss')\n",
    "ax2.set_ylabel('Loss')\n",
    "ax2.set_xlabel('Epoch')\n",
    "ax2.legend(['Train', 'Val'], loc='upper left')\n",
    "\n",
    "sns.despine(bottom=True)\n",
    "plt.tight_layout(h_pad=2)\n"
   ]
  },
  {
   "cell_type": "code",
   "execution_count": 65,
   "id": "5cccb85f",
   "metadata": {},
   "outputs": [
    {
     "name": "stderr",
     "output_type": "stream",
     "text": [
      "/tmp/ipykernel_14511/1667429351.py:4: DeprecationWarning: `np.int` is a deprecated alias for the builtin `int`. To silence this warning, use `int` by itself. Doing this will not modify any behavior and is safe. When replacing `np.int`, you may wish to use e.g. `np.int64` or `np.int32` to specify the precision. If you wish to review your current use, check the release note link for additional information.\n",
      "Deprecated in NumPy 1.20; for more details and guidance: https://numpy.org/devdocs/release/1.20.0-notes.html#deprecations\n",
      "  y_pred = (probas > 0.5).astype(np.int)\n"
     ]
    }
   ],
   "source": [
    "model.load_weights('data/cbow_weights.hdf5')\n",
    "\n",
    "probas = model.predict(X_test[1:])\n",
    "y_pred = (probas > 0.5).astype(np.int)"
   ]
  },
  {
   "cell_type": "code",
   "execution_count": 61,
   "id": "4a6faca5",
   "metadata": {},
   "outputs": [
    {
     "name": "stdout",
     "output_type": "stream",
     "text": [
      "              precision    recall  f1-score   support\n",
      "\n",
      "           0     0.9313    0.9325    0.9319     10408\n",
      "           1     0.9266    0.9254    0.9260      9592\n",
      "\n",
      "    accuracy                         0.9291     20000\n",
      "   macro avg     0.9290    0.9289    0.9289     20000\n",
      "weighted avg     0.9290    0.9291    0.9290     20000\n",
      "\n"
     ]
    }
   ],
   "source": [
    "print(classification_report(y_test, y_pred, digits=4))"
   ]
  },
  {
   "cell_type": "code",
   "execution_count": 58,
   "id": "85bc8b64",
   "metadata": {},
   "outputs": [
    {
     "data": {
      "image/png": "[encoded data removed]",
      "text/plain": [
       "<Figure size 504x360 with 2 Axes>"
      ]
     },
     "metadata": {},
     "output_type": "display_data"
    }
   ],
   "source": [
    "conf_mx = confusion_matrix(y_test, y_pred)\n",
    "df_cm = pd.DataFrame(conf_mx)\n",
    "fig = plt.figure(figsize=(7,5))\n",
    "\n",
    "heatmap = sns.heatmap(df_cm, annot=True, fmt=\"d\")\n",
    "heatmap.yaxis.set_ticklabels(\n",
    "    heatmap.yaxis.get_ticklabels(), rotation=0,\n",
    "    ha='right')\n",
    "heatmap.xaxis.set_ticklabels(\n",
    "    heatmap.xaxis.get_ticklabels(), rotation=45,\n",
    "    ha='right')\n",
    "\n",
    "plt.ylabel('True label')\n",
    "plt.xlabel('Predicted label');"
   ]
  },
  {
   "cell_type": "markdown",
   "id": "a5550e5d",
   "metadata": {},
   "source": [
    "Ce premier modèle est déjà très intéressant en terme de métriques et l'on observe pas de déséquilibre particulier dans les prédictions. "
   ]
  },
  {
   "cell_type": "markdown",
   "id": "aa3252af",
   "metadata": {},
   "source": [
    "## II. FastText\n",
    "\n",
    "\n",
    "FastText est capable d'obtenir de très bonnes performances pour la représentation des mots et la classification des phrases, en particulier dans le cas de mots rares, en utilisant les informations au niveau des caractères."
   ]
  },
  {
   "cell_type": "code",
   "execution_count": 5,
   "id": "59865d1b",
   "metadata": {
    "scrolled": false
   },
   "outputs": [],
   "source": [
    "# import fasttext.util\n",
    "\n",
    "# pre-trained word vectors (here we will train fasttext from scratch instead)\n",
    "# fasttext.util.download_model('fr', if_exists='ignore')  # French\n",
    "# ft = fasttext.load_model('cc.fr.300.bin')"
   ]
  },
  {
   "cell_type": "markdown",
   "id": "faa97d1c",
   "metadata": {},
   "source": [
    "fastText attend d'abord la catégorie, avec le préfixe '__label__' avant chaque catégorie, puis le texte d'entrée prétraité. Les étapes suivantes se passent sous le capot."
   ]
  },
  {
   "cell_type": "code",
   "execution_count": 39,
   "id": "2c8d1722",
   "metadata": {},
   "outputs": [
    {
     "data": {
      "text/html": [
       "<div>\n",
       "<style scoped>\n",
       "    .dataframe tbody tr th:only-of-type {\n",
       "        vertical-align: middle;\n",
       "    }\n",
       "\n",
       "    .dataframe tbody tr th {\n",
       "        vertical-align: top;\n",
       "    }\n",
       "\n",
       "    .dataframe thead th {\n",
       "        text-align: right;\n",
       "    }\n",
       "</style>\n",
       "<table border=\"1\" class=\"dataframe\">\n",
       "  <thead>\n",
       "    <tr style=\"text-align: right;\">\n",
       "      <th></th>\n",
       "      <th>polarity</th>\n",
       "      <th>tk_review</th>\n",
       "    </tr>\n",
       "  </thead>\n",
       "  <tbody>\n",
       "    <tr>\n",
       "      <th>0</th>\n",
       "      <td>1</td>\n",
       "      <td>[magnifique, épopée, une, belle, histoire, touchante, avec, des, acteurs, qui, interprètent, très, bien, leur, rôles, mel, gibson, heath, ledger, jason, isaacs, le, genre, de, film, qui, se, savoure, en, famille]</td>\n",
       "    </tr>\n",
       "    <tr>\n",
       "      <th>1</th>\n",
       "      <td>0</td>\n",
       "      <td>[je, ai, pas, aimé, mais, pourtant, je, lui, mets, étoiles, car, expérience, est, louable, rien, de, conventionnel, ici, une, visite, mais, jonchée, idées, originales, le, soucis, tout, ceci, avait, il, vraiment, sa, place, dans, un, film, de, tirant, sur, horreur, voici, un, film, qui, inverse, de, tant, autres, qui, ont, droit, mériterait, peut, être, un, remake]</td>\n",
       "    </tr>\n",
       "    <tr>\n",
       "      <th>2</th>\n",
       "      <td>1</td>\n",
       "      <td>[un, dessin, animé, qui, brille, par, sa, féerie, et, ses, chansons]</td>\n",
       "    </tr>\n",
       "    <tr>\n",
       "      <th>3</th>\n",
       "      <td>0</td>\n",
       "      <td>[si, est, là, le, renouveau, du, cinéma, français, est, tout, de, même, foutrement, chiant, si, objet, est, très, stylisé, et, la, tension, palpable, le, film, paraît, plutôt, creux]</td>\n",
       "    </tr>\n",
       "    <tr>\n",
       "      <th>4</th>\n",
       "      <td>0</td>\n",
       "      <td>[et, pourtant, on, en, doutait, second, volet, très, mauvais, sans, fraîcheur, et, lourdingue, quel, dommage]</td>\n",
       "    </tr>\n",
       "  </tbody>\n",
       "</table>\n",
       "</div>"
      ],
      "text/plain": [
       "   polarity  \\\n",
       "0         1   \n",
       "1         0   \n",
       "2         1   \n",
       "3         0   \n",
       "4         0   \n",
       "\n",
       "                                                                                                                                                                                                                                                                                                                                                                         tk_review  \n",
       "0                                                                                                                                                             [magnifique, épopée, une, belle, histoire, touchante, avec, des, acteurs, qui, interprètent, très, bien, leur, rôles, mel, gibson, heath, ledger, jason, isaacs, le, genre, de, film, qui, se, savoure, en, famille]  \n",
       "1  [je, ai, pas, aimé, mais, pourtant, je, lui, mets, étoiles, car, expérience, est, louable, rien, de, conventionnel, ici, une, visite, mais, jonchée, idées, originales, le, soucis, tout, ceci, avait, il, vraiment, sa, place, dans, un, film, de, tirant, sur, horreur, voici, un, film, qui, inverse, de, tant, autres, qui, ont, droit, mériterait, peut, être, un, remake]  \n",
       "2                                                                                                                                                                                                                                                                                                             [un, dessin, animé, qui, brille, par, sa, féerie, et, ses, chansons]  \n",
       "3                                                                                                                                                                                           [si, est, là, le, renouveau, du, cinéma, français, est, tout, de, même, foutrement, chiant, si, objet, est, très, stylisé, et, la, tension, palpable, le, film, paraît, plutôt, creux]  \n",
       "4                                                                                                                                                                                                                                                                    [et, pourtant, on, en, doutait, second, volet, très, mauvais, sans, fraîcheur, et, lourdingue, quel, dommage]  "
      ]
     },
     "execution_count": 39,
     "metadata": {},
     "output_type": "execute_result"
    }
   ],
   "source": [
    "train = pd.concat([df_train['polarity'], df_train['tk_review']], axis=1)\n",
    "val = pd.concat([df_val['polarity'], df_val['tk_review']], axis=1)\n",
    "test = pd.concat([df_test['polarity'], df_test['tk_review']], axis=1)\n",
    "test.head()"
   ]
  },
  {
   "cell_type": "code",
   "execution_count": 40,
   "id": "4ca4303a",
   "metadata": {},
   "outputs": [
    {
     "data": {
      "text/html": [
       "<div>\n",
       "<style scoped>\n",
       "    .dataframe tbody tr th:only-of-type {\n",
       "        vertical-align: middle;\n",
       "    }\n",
       "\n",
       "    .dataframe tbody tr th {\n",
       "        vertical-align: top;\n",
       "    }\n",
       "\n",
       "    .dataframe thead th {\n",
       "        text-align: right;\n",
       "    }\n",
       "</style>\n",
       "<table border=\"1\" class=\"dataframe\">\n",
       "  <thead>\n",
       "    <tr style=\"text-align: right;\">\n",
       "      <th></th>\n",
       "      <th>polarity</th>\n",
       "      <th>tk_review</th>\n",
       "    </tr>\n",
       "  </thead>\n",
       "  <tbody>\n",
       "    <tr>\n",
       "      <th>0</th>\n",
       "      <td>__label__1</td>\n",
       "      <td>[magnifique, épopée, une, belle, histoire, touchante, avec, des, acteurs, qui, interprètent, très, bien, leur, rôles, mel, gibson, heath, ledger, jason, isaacs, le, genre, de, film, qui, se, savoure, en, famille]</td>\n",
       "    </tr>\n",
       "    <tr>\n",
       "      <th>1</th>\n",
       "      <td>__label__0</td>\n",
       "      <td>[je, ai, pas, aimé, mais, pourtant, je, lui, mets, étoiles, car, expérience, est, louable, rien, de, conventionnel, ici, une, visite, mais, jonchée, idées, originales, le, soucis, tout, ceci, avait, il, vraiment, sa, place, dans, un, film, de, tirant, sur, horreur, voici, un, film, qui, inverse, de, tant, autres, qui, ont, droit, mériterait, peut, être, un, remake]</td>\n",
       "    </tr>\n",
       "    <tr>\n",
       "      <th>2</th>\n",
       "      <td>__label__1</td>\n",
       "      <td>[un, dessin, animé, qui, brille, par, sa, féerie, et, ses, chansons]</td>\n",
       "    </tr>\n",
       "    <tr>\n",
       "      <th>3</th>\n",
       "      <td>__label__0</td>\n",
       "      <td>[si, est, là, le, renouveau, du, cinéma, français, est, tout, de, même, foutrement, chiant, si, objet, est, très, stylisé, et, la, tension, palpable, le, film, paraît, plutôt, creux]</td>\n",
       "    </tr>\n",
       "    <tr>\n",
       "      <th>4</th>\n",
       "      <td>__label__0</td>\n",
       "      <td>[et, pourtant, on, en, doutait, second, volet, très, mauvais, sans, fraîcheur, et, lourdingue, quel, dommage]</td>\n",
       "    </tr>\n",
       "  </tbody>\n",
       "</table>\n",
       "</div>"
      ],
      "text/plain": [
       "     polarity  \\\n",
       "0  __label__1   \n",
       "1  __label__0   \n",
       "2  __label__1   \n",
       "3  __label__0   \n",
       "4  __label__0   \n",
       "\n",
       "                                                                                                                                                                                                                                                                                                                                                                         tk_review  \n",
       "0                                                                                                                                                             [magnifique, épopée, une, belle, histoire, touchante, avec, des, acteurs, qui, interprètent, très, bien, leur, rôles, mel, gibson, heath, ledger, jason, isaacs, le, genre, de, film, qui, se, savoure, en, famille]  \n",
       "1  [je, ai, pas, aimé, mais, pourtant, je, lui, mets, étoiles, car, expérience, est, louable, rien, de, conventionnel, ici, une, visite, mais, jonchée, idées, originales, le, soucis, tout, ceci, avait, il, vraiment, sa, place, dans, un, film, de, tirant, sur, horreur, voici, un, film, qui, inverse, de, tant, autres, qui, ont, droit, mériterait, peut, être, un, remake]  \n",
       "2                                                                                                                                                                                                                                                                                                             [un, dessin, animé, qui, brille, par, sa, féerie, et, ses, chansons]  \n",
       "3                                                                                                                                                                                           [si, est, là, le, renouveau, du, cinéma, français, est, tout, de, même, foutrement, chiant, si, objet, est, très, stylisé, et, la, tension, palpable, le, film, paraît, plutôt, creux]  \n",
       "4                                                                                                                                                                                                                                                                    [et, pourtant, on, en, doutait, second, volet, très, mauvais, sans, fraîcheur, et, lourdingue, quel, dommage]  "
      ]
     },
     "execution_count": 40,
     "metadata": {},
     "output_type": "execute_result"
    }
   ],
   "source": [
    "# Prefixing each row of the category column with '__label__'\n",
    "train.iloc[:, 0] = train.iloc[:, 0].apply(lambda x: '__label__' + str(x))\n",
    "val.iloc[:, 0] = val.iloc[:, 0].apply(lambda x: '__label__' + str(x))\n",
    "test.iloc[:, 0] = test.iloc[:, 0].apply(lambda x: '__label__' + str(x))\n",
    "test.head()"
   ]
  },
  {
   "cell_type": "code",
   "execution_count": 41,
   "id": "59e20276",
   "metadata": {},
   "outputs": [],
   "source": [
    "# Saving the CSV file as a txt file\n",
    "train.to_csv('train.txt', index = False, sep = ' ', header = None)\n",
    "val.to_csv('val.txt', index = False, sep = ' ', header = None)\n",
    "test.to_csv('test.txt', index = False, sep = ' ', header = None)"
   ]
  },
  {
   "cell_type": "markdown",
   "id": "a7ef7a81",
   "metadata": {},
   "source": [
    "Pour améliorer les performances de notre modèle, le paramètre wordNgrams est fixé à 2. En d'autres termes, le modèle est entraîné sur des bigrammes au lieu de ne considérer uniquement des mots individuels.\n",
    "\n",
    "Différentes méthodes d'entraînement sont fournies par la librarie : \n",
    "- train_unsupervised : c'est de l'apprentissage non supervisé en ce sens que l'on ne fournit que le corpus de texte à l'algorithme. Il va ensuite utiliser des fenêtres contextuelles glissantes pour son entraînement.\n",
    "\n",
    "- train_supervised : ici, on fournit clairement l'objectif de classification (0/1, positif/négatif), l'apprentissage de l'embedding est implicite et intervient lors de l'apprentissage de la tâche de classification."
   ]
  },
  {
   "cell_type": "code",
   "execution_count": 42,
   "id": "2909b35b",
   "metadata": {},
   "outputs": [
    {
     "name": "stderr",
     "output_type": "stream",
     "text": [
      "Read 14M words\n",
      "Number of words:  177567\n",
      "Number of labels: 2\n",
      "Progress:  99.9% words/sec/thread:  568155 lr:  0.000011 avg.loss:  0.228901 ETA:   0h 0m 0s  2.4% words/sec/thread:  574692 lr:  0.009761 avg.loss:  0.694646 ETA:   0h 0m32s  5.4% words/sec/thread:  576741 lr:  0.009460 avg.loss:  0.690002 ETA:   0h 0m31s 11.7% words/sec/thread:  576828 lr:  0.008830 avg.loss:  0.582607 ETA:   0h 0m29s 16.2% words/sec/thread:  575909 lr:  0.008383 avg.loss:  0.512588 ETA:   0h 0m28s 17.7% words/sec/thread:  575677 lr:  0.008234 avg.loss:  0.495569 ETA:   0h 0m27s 19.2% words/sec/thread:  575489 lr:  0.008085 avg.loss:  0.479169 ETA:   0h 0m27s"
     ]
    },
    {
     "name": "stdout",
     "output_type": "stream",
     "text": [
      "Model trained with the hyperparameter \n",
      " {'lr': 0.01, 'epoch': 20, 'wordNgrams': 2, 'dim': 300}\n"
     ]
    },
    {
     "name": "stderr",
     "output_type": "stream",
     "text": [
      "100.0% words/sec/thread:  567078 lr: -0.000000 avg.loss:  0.228829 ETA:   0h 0m 0s\r\n",
      "Progress: 100.0% words/sec/thread:  567074 lr:  0.000000 avg.loss:  0.228829 ETA:   0h 0m 0s\n"
     ]
    }
   ],
   "source": [
    "import fasttext\n",
    "\n",
    "hyper_params = {\"lr\": 0.01,\n",
    "    \"epoch\": 20,\n",
    "    \"wordNgrams\": 2,\n",
    "    \"dim\": 300}     \n",
    "        \n",
    "# Train the model.\n",
    "model = fasttext.train_supervised('train.txt', **hyper_params)\n",
    "print(\"Model trained with the hyperparameter \\n {}\".format(hyper_params))"
   ]
  },
  {
   "cell_type": "code",
   "execution_count": 44,
   "id": "560fc774",
   "metadata": {},
   "outputs": [
    {
     "name": "stdout",
     "output_type": "stream",
     "text": [
      "N\t20000\n",
      "P@1\t0.9348\n",
      "R@1\t0.9348\n"
     ]
    }
   ],
   "source": [
    "def print_results(N, p, r):\n",
    "    print(\"N\\t\" + str(N))\n",
    "    print(\"P@{}\\t{:.4f}\".format(1, p))\n",
    "    print(\"R@{}\\t{:.4f}\".format(1, r))\n",
    "\n",
    "print_results(*model.test('test.txt'))"
   ]
  },
  {
   "cell_type": "markdown",
   "id": "0c4fa5a5",
   "metadata": {},
   "source": [
    "Fasttext est meilleur que Word2vec, pour ce dataset. On gagne 0.55 point d'accuracy."
   ]
  },
  {
   "cell_type": "code",
   "execution_count": 75,
   "id": "305bed92",
   "metadata": {},
   "outputs": [
    {
     "name": "stderr",
     "output_type": "stream",
     "text": [
      "Warning : `load_model` does not return WordVectorModel or SupervisedModel any more, but a `FastText` object which is very similar.\n"
     ]
    }
   ],
   "source": [
    "model = fasttext.load_model(\"fasttext_model_quant.ftz\")"
   ]
  },
  {
   "cell_type": "code",
   "execution_count": 77,
   "id": "bc00ed8b",
   "metadata": {},
   "outputs": [
    {
     "data": {
      "text/plain": [
       "(('__label__0', '__label__1'), array([0.65522462, 0.34479532]))"
      ]
     },
     "execution_count": 77,
     "metadata": {},
     "output_type": "execute_result"
    }
   ],
   "source": [
    "pred = model.predict(\"Magnifique épopée, une belle histoire, touchante avec des acteurs qui interprètent très bien leur rôles (Mel Gibson, Heath Ledger, Jason Isaacs...), le genre de film qui se savoure en famille! :)\", k=2)\n",
    "pred"
   ]
  },
  {
   "cell_type": "markdown",
   "id": "38c294b9",
   "metadata": {},
   "source": [
    "Lorsque l'on souhaite sauvegarder un modèle, fastText peut le compresser afin d'obtenir un fichier modèle beaucoup plus petit en ne sacrifiant qu'un peu de performance. Cela permet notamment d'optimiser le modèle pour sa mise en production.\n",
    "\n"
   ]
  },
  {
   "cell_type": "code",
   "execution_count": 51,
   "id": "11a5f27a",
   "metadata": {},
   "outputs": [
    {
     "name": "stdout",
     "output_type": "stream",
     "text": [
      "N\t20000\n",
      "P@1\t0.9342\n",
      "R@1\t0.9342\n"
     ]
    }
   ],
   "source": [
    "# with the previously trained `model` object, call :\n",
    "model.quantize(input='train.txt', retrain=True)\n",
    "\n",
    "# then display results and save the new model :\n",
    "print_results(*model.test('test.txt'))\n",
    "model.save_model(\"fasttext_model_quant.ftz\")"
   ]
  }
 ],
 "metadata": {
  "kernelspec": {
   "display_name": "Python 3 (ipykernel)",
   "language": "python",
   "name": "python3"
  },
  "language_info": {
   "codemirror_mode": {
    "name": "ipython",
    "version": 3
   },
   "file_extension": ".py",
   "mimetype": "text/x-python",
   "name": "python",
   "nbconvert_exporter": "python",
   "pygments_lexer": "ipython3",
   "version": "3.8.10"
  }
 },
 "nbformat": 4,
 "nbformat_minor": 5
}
