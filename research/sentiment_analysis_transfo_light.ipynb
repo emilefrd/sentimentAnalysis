{
 "cells": [
  {
   "cell_type": "code",
   "execution_count": 4,
   "id": "3568b46c",
   "metadata": {
    "colab": {
     "base_uri": "https://localhost:8080/",
     "height": 142
    },
    "id": "3568b46c",
    "outputId": "e40a6a1b-e575-45d9-90a7-12487d112806"
   },
   "outputs": [
    {
     "data": {
      "text/html": [
       "\n",
       "  <div id=\"df-7bcab5f9-7a8e-4322-a463-19287fe1fa45\">\n",
       "    <div class=\"colab-df-container\">\n",
       "      <div>\n",
       "<style scoped>\n",
       "    .dataframe tbody tr th:only-of-type {\n",
       "        vertical-align: middle;\n",
       "    }\n",
       "\n",
       "    .dataframe tbody tr th {\n",
       "        vertical-align: top;\n",
       "    }\n",
       "\n",
       "    .dataframe thead th {\n",
       "        text-align: right;\n",
       "    }\n",
       "</style>\n",
       "<table border=\"1\" class=\"dataframe\">\n",
       "  <thead>\n",
       "    <tr style=\"text-align: right;\">\n",
       "      <th></th>\n",
       "      <th>film-url</th>\n",
       "      <th>review</th>\n",
       "      <th>polarity</th>\n",
       "    </tr>\n",
       "  </thead>\n",
       "  <tbody>\n",
       "    <tr>\n",
       "      <th>0</th>\n",
       "      <td>http://www.allocine.fr/film/fichefilm-25385/critiques/spectateurs</td>\n",
       "      <td>Magnifique épopée, une belle histoire, touchante avec des acteurs qui interprètent très bien leur rôles (Mel Gibson, Heath Ledger, Jason Isaacs...), le genre de film qui se savoure en famille! :)</td>\n",
       "      <td>1</td>\n",
       "    </tr>\n",
       "  </tbody>\n",
       "</table>\n",
       "</div>\n",
       "      <button class=\"colab-df-convert\" onclick=\"convertToInteractive('df-7bcab5f9-7a8e-4322-a463-19287fe1fa45')\"\n",
       "              title=\"Convert this dataframe to an interactive table.\"\n",
       "              style=\"display:none;\">\n",
       "        \n",
       "  <svg xmlns=\"http://www.w3.org/2000/svg\" height=\"24px\"viewBox=\"0 0 24 24\"\n",
       "       width=\"24px\">\n",
       "    <path d=\"M0 0h24v24H0V0z\" fill=\"none\"/>\n",
       "    <path d=\"M18.56 5.44l.94 2.06.94-2.06 2.06-.94-2.06-.94-.94-2.06-.94 2.06-2.06.94zm-11 1L8.5 8.5l.94-2.06 2.06-.94-2.06-.94L8.5 2.5l-.94 2.06-2.06.94zm10 10l.94 2.06.94-2.06 2.06-.94-2.06-.94-.94-2.06-.94 2.06-2.06.94z\"/><path d=\"M17.41 7.96l-1.37-1.37c-.4-.4-.92-.59-1.43-.59-.52 0-1.04.2-1.43.59L10.3 9.45l-7.72 7.72c-.78.78-.78 2.05 0 2.83L4 21.41c.39.39.9.59 1.41.59.51 0 1.02-.2 1.41-.59l7.78-7.78 2.81-2.81c.8-.78.8-2.07 0-2.86zM5.41 20L4 18.59l7.72-7.72 1.47 1.35L5.41 20z\"/>\n",
       "  </svg>\n",
       "      </button>\n",
       "      \n",
       "  <style>\n",
       "    .colab-df-container {\n",
       "      display:flex;\n",
       "      flex-wrap:wrap;\n",
       "      gap: 12px;\n",
       "    }\n",
       "\n",
       "    .colab-df-convert {\n",
       "      background-color: #E8F0FE;\n",
       "      border: none;\n",
       "      border-radius: 50%;\n",
       "      cursor: pointer;\n",
       "      display: none;\n",
       "      fill: #1967D2;\n",
       "      height: 32px;\n",
       "      padding: 0 0 0 0;\n",
       "      width: 32px;\n",
       "    }\n",
       "\n",
       "    .colab-df-convert:hover {\n",
       "      background-color: #E2EBFA;\n",
       "      box-shadow: 0px 1px 2px rgba(60, 64, 67, 0.3), 0px 1px 3px 1px rgba(60, 64, 67, 0.15);\n",
       "      fill: #174EA6;\n",
       "    }\n",
       "\n",
       "    [theme=dark] .colab-df-convert {\n",
       "      background-color: #3B4455;\n",
       "      fill: #D2E3FC;\n",
       "    }\n",
       "\n",
       "    [theme=dark] .colab-df-convert:hover {\n",
       "      background-color: #434B5C;\n",
       "      box-shadow: 0px 1px 3px 1px rgba(0, 0, 0, 0.15);\n",
       "      filter: drop-shadow(0px 1px 2px rgba(0, 0, 0, 0.3));\n",
       "      fill: #FFFFFF;\n",
       "    }\n",
       "  </style>\n",
       "\n",
       "      <script>\n",
       "        const buttonEl =\n",
       "          document.querySelector('#df-7bcab5f9-7a8e-4322-a463-19287fe1fa45 button.colab-df-convert');\n",
       "        buttonEl.style.display =\n",
       "          google.colab.kernel.accessAllowed ? 'block' : 'none';\n",
       "\n",
       "        async function convertToInteractive(key) {\n",
       "          const element = document.querySelector('#df-7bcab5f9-7a8e-4322-a463-19287fe1fa45');\n",
       "          const dataTable =\n",
       "            await google.colab.kernel.invokeFunction('convertToInteractive',\n",
       "                                                     [key], {});\n",
       "          if (!dataTable) return;\n",
       "\n",
       "          const docLinkHtml = 'Like what you see? Visit the ' +\n",
       "            '<a target=\"_blank\" href=https://colab.research.google.com/notebooks/data_table.ipynb>data table notebook</a>'\n",
       "            + ' to learn more about interactive tables.';\n",
       "          element.innerHTML = '';\n",
       "          dataTable['output_type'] = 'display_data';\n",
       "          await google.colab.output.renderOutput(dataTable, element);\n",
       "          const docLink = document.createElement('div');\n",
       "          docLink.innerHTML = docLinkHtml;\n",
       "          element.appendChild(docLink);\n",
       "        }\n",
       "      </script>\n",
       "    </div>\n",
       "  </div>\n",
       "  "
      ],
      "text/plain": [
       "                                                            film-url  \\\n",
       "0  http://www.allocine.fr/film/fichefilm-25385/critiques/spectateurs   \n",
       "\n",
       "                                                                                                                                                                                                review  \\\n",
       "0  Magnifique épopée, une belle histoire, touchante avec des acteurs qui interprètent très bien leur rôles (Mel Gibson, Heath Ledger, Jason Isaacs...), le genre de film qui se savoure en famille! :)   \n",
       "\n",
       "   polarity  \n",
       "0         1  "
      ]
     },
     "execution_count": 4,
     "metadata": {},
     "output_type": "execute_result"
    }
   ],
   "source": [
    "import pandas as pd\n",
    "import numpy as np\n",
    "import time\n",
    "pd.set_option('display.max_colwidth', None) \n",
    "\n",
    "import tensorflow as tf\n",
    "from transformers import CamembertTokenizer\n",
    "from transformers import TFCamembertForSequenceClassification\n",
    "\n",
    "from sklearn.base import BaseEstimator\n",
    "from sklearn import metrics \n",
    "\n",
    "df = pd.read_pickle('/content/drive/MyDrive/Projets/allocine_dataset.pickle')\n",
    "df_train = df['train_set']\n",
    "df_val = df['val_set']\n",
    "df_test = df['test_set']\n",
    "df_test.head(1)"
   ]
  },
  {
   "cell_type": "markdown",
   "id": "82efead0",
   "metadata": {},
   "source": [
    "Le Transfomer est un modèle de Deep Learning de type seq2seq qui a la particularité de n'utiliser que le mécanisme d'attention et aucun réseau récurrent ou convolutif. \n",
    "\n",
    "L'architecture du Transfomer a hérité du schéma encodeur-décodeur des réseaux récurrents. La partie \"encodage\" contient plusieurs encodeurs montés les uns à la suite des autres. La partie \"décodage\" est constituée de plusieurs décodeurs également montés les uns à la suite des autres mais prenant chacun, comme entrée supplémentaire, la sortie du 6ème encodeur.\n",
    "\n",
    "L'entrée d'un encodeur est la sortie de l'encodeur précédent. L'entrée du premier encodeur est le vecteur d'embedding.\n",
    "\n",
    "L'encodeur est constitué de deux blocs : \n",
    "- une couche \"d'auto-attention\"\n",
    "- un réseau de neurones \"Feed-forward\" : son rôle est de préserver l'interdépendance des mots dans la représentation des séquences.\n",
    "\n",
    "Le décodeur est également composé d'un bloc d'auto-attention et d'un Feed-forward mais il contient en plus une couche \"Encoder-Decoder Attention\" qui a pour but de permettre au décodeur de réaliser le mécanisme d'attention entre la séquence d'entrée (encodée) et la séquence de sortie (en cours de décodage).\n",
    "\n",
    "L'idée du concept d'attention est de mesurer dans quelle mesure deux éléments de deux séquences sont liés. Dans un contexte de séquence à séquence en PNL, le mécanisme d'attention visera à indiquer au reste du modèle les mots de la séquence B auxquels il faut prêter le plus d'attention lors du traitement d'un mot de la séquence A.\n",
    "\n",
    "BERT est transformer pré-entraînés sur des millions de textes et qu’il est possible de fine-tuner pour des tâches spécifiques. Ces modèles, aujourd’hui, sont ceux qui permettent d’avoir les meilleurs résultats pour les tâches classiques : classification de texte ou NER. "
   ]
  },
  {
   "cell_type": "markdown",
   "id": "6ccb4dbc",
   "metadata": {
    "id": "6ccb4dbc"
   },
   "source": [
    "## Preprocessing\n",
    "\n",
    "Pour ce faire, nous utilisons CamembertTokenizer, un tokenizer fourni par Huggingface."
   ]
  },
  {
   "cell_type": "code",
   "execution_count": 5,
   "id": "f1f90d40",
   "metadata": {
    "colab": {
     "base_uri": "https://localhost:8080/",
     "height": 81,
     "referenced_widgets": [
      "2f1ef18417524c6a8ea05e1e26436bcc",
      "36820056d58541a2a50382d91aad38ba",
      "6262ec8194d442bdb2beb6e86a1bb4c8",
      "366443ac2e494445b270e136030cdf0f",
      "56585d7f303e41b6b4d0277b338c4f55",
      "7d1a6b18cffe42268c48c6901dd2e308",
      "feed79fd98354265bfb93fc7dddf6c56",
      "095d885f2766452aa2e481842c227c30",
      "fc63c62cbdc24b3d92fe3cf786a49fa7",
      "238d93c8e5184f61af527d04b1444b73",
      "53b0495bcb944e569d9eb226ec091881",
      "68531cf0005b4606bf23868c461d7f5e",
      "6bedfc9e32264457ba45dd4e21fb64ca",
      "9d6fdb724ed24214ba5d081cb8ee9b78",
      "f6d5515833ea4e2993d63a24eb7d7420",
      "36fdb0a65a584fc680a880ae2aeaf81a",
      "e9f34dac988c42fea9c7bfad1a1f2be2",
      "c5acfe1a9b324709a23c58f321ef4e44",
      "f1acd37ecabb49478c50f689d57db918",
      "52f45eae02674111b19bc7d21ad5d050",
      "64969adad4d240f0bc911ebdc822f03f",
      "ef4aff14988e48da9090e5400f213bf2"
     ]
    },
    "id": "f1f90d40",
    "outputId": "c2f8e25e-b165-47cb-e4a8-43bb6e43a3a4"
   },
   "outputs": [
    {
     "data": {
      "application/vnd.jupyter.widget-view+json": {
       "model_id": "2f1ef18417524c6a8ea05e1e26436bcc",
       "version_major": 2,
       "version_minor": 0
      },
      "text/plain": [
       "Downloading:   0%|          | 0.00/792k [00:00<?, ?B/s]"
      ]
     },
     "metadata": {},
     "output_type": "display_data"
    },
    {
     "data": {
      "application/vnd.jupyter.widget-view+json": {
       "model_id": "68531cf0005b4606bf23868c461d7f5e",
       "version_major": 2,
       "version_minor": 0
      },
      "text/plain": [
       "Downloading:   0%|          | 0.00/508 [00:00<?, ?B/s]"
      ]
     },
     "metadata": {},
     "output_type": "display_data"
    }
   ],
   "source": [
    "model_name = \"camembert-base\"\n",
    "tokenizer = CamembertTokenizer.from_pretrained(model_name)"
   ]
  },
  {
   "cell_type": "markdown",
   "id": "8659b6ae",
   "metadata": {},
   "source": [
    "Testons le bon fonctionnement du tokenizer."
   ]
  },
  {
   "cell_type": "code",
   "execution_count": 7,
   "id": "5d6fdfc7",
   "metadata": {
    "colab": {
     "base_uri": "https://localhost:8080/"
    },
    "id": "5d6fdfc7",
    "outputId": "4931232a-9ed7-4e9d-c25f-c332479cf504"
   },
   "outputs": [
    {
     "data": {
      "text/plain": [
       "[5, 12158, 21, 21323, 7, 28, 455, 738, 7, 8353]"
      ]
     },
     "execution_count": 7,
     "metadata": {},
     "output_type": "execute_result"
    }
   ],
   "source": [
    "tokenizer.encode(df['test_set']['review'][0])[:10]\n"
   ]
  },
  {
   "cell_type": "code",
   "execution_count": 8,
   "id": "037677bc",
   "metadata": {
    "colab": {
     "base_uri": "https://localhost:8080/",
     "height": 36
    },
    "id": "037677bc",
    "outputId": "60bb3a2a-492e-4e27-cac2-9407c05f1f16"
   },
   "outputs": [
    {
     "data": {
      "application/vnd.google.colaboratory.intrinsic+json": {
       "type": "string"
      },
      "text/plain": [
       "'Magnifique épopée, une belle histoire, touchant'"
      ]
     },
     "execution_count": 8,
     "metadata": {},
     "output_type": "execute_result"
    }
   ],
   "source": [
    "tokenizer.decode(tokenizer.encode(df['test_set']['review'][0])[:10])"
   ]
  },
  {
   "cell_type": "markdown",
   "id": "2fc17356",
   "metadata": {},
   "source": [
    "Le mécanisme d'attention propre au transformer nécessite un encodage particulier des reviews."
   ]
  },
  {
   "cell_type": "code",
   "execution_count": 9,
   "id": "5865932b",
   "metadata": {
    "id": "5865932b"
   },
   "outputs": [],
   "source": [
    "def encode_reviews(tokenizer, reviews, max_length):\n",
    "    \n",
    "    token_ids = np.zeros(shape=(len(reviews), max_length), dtype=np.int32)\n",
    "    \n",
    "    for i, review in enumerate(reviews):\n",
    "        encoded = tokenizer.encode(review, max_length=max_length)\n",
    "        token_ids[i, 0:len(encoded)] = encoded\n",
    "    \n",
    "    attention_mask = (token_ids != 0).astype(np.int32)\n",
    "    \n",
    "    return {\"input_ids\": token_ids, \"attention_mask\": attention_mask}"
   ]
  },
  {
   "cell_type": "markdown",
   "id": "eace84ac",
   "metadata": {},
   "source": [
    "On réalise ensuite le padding des reviews selon un certain threshold (se basant sur de la distribution des longueurs moyennes des reviews, comme précédemment)"
   ]
  },
  {
   "cell_type": "code",
   "execution_count": null,
   "id": "e4826ddb",
   "metadata": {
    "id": "e4826ddb"
   },
   "outputs": [],
   "source": [
    "# reviews_len = [len(tokenizer.encode(review, max_length=512)) for review in df['train_set']['review']]\n",
    "# reviews_len = pd.Series(reviews_len)\n",
    "# reviews_len.describe(percentiles=[.25, .50, .75, 0.95, 0.99, 0.999])"
   ]
  },
  {
   "cell_type": "code",
   "execution_count": null,
   "id": "05c7887f",
   "metadata": {
    "id": "05c7887f"
   },
   "outputs": [],
   "source": [
    "MAX_LEN = 350\n",
    "\n",
    "encoded_train = encode_reviews(tokenizer, df['train_set']['review'], MAX_LEN)\n",
    "encoded_valid = encode_reviews(tokenizer, df['val_set']['review'], MAX_LEN)\n",
    "encoded_test = encode_reviews(tokenizer, df['test_set']['review'], MAX_LEN)"
   ]
  },
  {
   "cell_type": "code",
   "execution_count": null,
   "id": "9195acb3",
   "metadata": {
    "id": "9195acb3"
   },
   "outputs": [],
   "source": [
    "y_train = np.array(df_train['polarity'])\n",
    "y_val = np.array(df_val['polarity'])\n",
    "y_test = np.array(df_test['polarity'])"
   ]
  },
  {
   "cell_type": "markdown",
   "id": "223fedff",
   "metadata": {
    "id": "223fedff"
   },
   "source": [
    "## Modelling\n",
    "\n",
    "Pour ce faire, nous utilisons TFCamembertForSequenceClassification, un modèle français pré-entraîné fourni par Huggingface. Par nature, les transformateurs sont généralistes et peuvent fournir d'excellents résultats même sans réentraînement. \n",
    "\n",
    "Cela dit, nous obtenons généralement des résultats encore meilleurs en ajustant le modèle sur le corpus d'intérêt (ici nos critiques de films en français). "
   ]
  },
  {
   "cell_type": "code",
   "execution_count": null,
   "id": "99a6fbc5",
   "metadata": {
    "colab": {
     "base_uri": "https://localhost:8080/",
     "height": 170,
     "referenced_widgets": [
      "ade342d1341c4365a50eb152965142c3",
      "d074feed0a50404991adcd59f8f56e8b",
      "c15ac7fe882c4097a449e394350bcb6c",
      "4a746e791d134ed0b9c5627a6dc0e782",
      "99b3cc3264fa42b08aa4f0606233e4ee",
      "dbb1b4c13a574b09ad5f43e0e28c3fed",
      "451b05ac928a43bf8b8e2244ab2c4a1e",
      "80a7b80fdd63436b95c2d50413f0f0e9",
      "a37a602ce5fd414eaa4f1cedb0ddaeef",
      "bafbc6f99f42400faebc01745654aeff",
      "634a16f808744fd1b096de42d4c57439",
      "11b39b4b8afd4d7e8b56ab1f5807c78a",
      "84d6366558fc4dfcafda1df1712b1bb8",
      "9955ffb5938c4ca1a9ed8afc22596f44",
      "3aeadb8a6b5f428eb50a492be8ac0a43",
      "bb0adc3cd34348d2baa436fc8d8bf965",
      "eb28ffe7f9214cd8b5b9a09435efe73f",
      "6bf4de32493545ca96b08a0e071d7f57",
      "a90655ddae9e4a3698aa1b2f3cf2d1d1",
      "6fed2150bec14def84eaf7704ae2c00f",
      "a54171da5d224dc581fc1f1614af65ba",
      "cd2046a63a454ed8967d7b9921fcec27"
     ]
    },
    "id": "99a6fbc5",
    "outputId": "77f8615f-b415-459a-c925-91419d1f4c08"
   },
   "outputs": [
    {
     "data": {
      "application/vnd.jupyter.widget-view+json": {
       "model_id": "ade342d1341c4365a50eb152965142c3",
       "version_major": 2,
       "version_minor": 0
      },
      "text/plain": [
       "Downloading:   0%|          | 0.00/508 [00:00<?, ?B/s]"
      ]
     },
     "metadata": {},
     "output_type": "display_data"
    },
    {
     "data": {
      "application/vnd.jupyter.widget-view+json": {
       "model_id": "11b39b4b8afd4d7e8b56ab1f5807c78a",
       "version_major": 2,
       "version_minor": 0
      },
      "text/plain": [
       "Downloading:   0%|          | 0.00/520M [00:00<?, ?B/s]"
      ]
     },
     "metadata": {},
     "output_type": "display_data"
    },
    {
     "name": "stderr",
     "output_type": "stream",
     "text": [
      "All model checkpoint layers were used when initializing TFCamembertForSequenceClassification.\n",
      "\n",
      "Some layers of TFCamembertForSequenceClassification were not initialized from the model checkpoint at jplu/tf-camembert-base and are newly initialized: ['classifier']\n",
      "You should probably TRAIN this model on a down-stream task to be able to use it for predictions and inference.\n"
     ]
    }
   ],
   "source": [
    "# pretrained model\n",
    "model = TFCamembertForSequenceClassification.from_pretrained(\"jplu/tf-camembert-base\")\n",
    "   "
   ]
  },
  {
   "cell_type": "code",
   "execution_count": null,
   "id": "e9d8cedd",
   "metadata": {},
   "outputs": [],
   "source": [
    "optimizer = tf.keras.optimizers.Adam(learning_rate=1e-5, epsilon=1e-07)\n",
    "loss_func = tf.keras.losses.SparseCategoricalCrossentropy(from_logits=True) \n",
    "\n",
    "model.compile(optimizer=optimizer, \n",
    "              loss=loss_func, \n",
    "              metrics=['accuracy'])"
   ]
  },
  {
   "cell_type": "code",
   "execution_count": null,
   "id": "ba200077",
   "metadata": {
    "id": "ba200077"
   },
   "outputs": [],
   "source": [
    "# history = model.fit(\n",
    "#     encoded_train, y_train, epochs=1, batch_size=4, \n",
    "#     validation_data=(encoded_valid, y_val), verbose=1\n",
    "# )"
   ]
  },
  {
   "cell_type": "markdown",
   "id": "48cb46f5",
   "metadata": {
    "id": "48cb46f5"
   },
   "source": [
    "Cet entraînement prend beaucoup de temps (en utilisant l'ensemble des données) : 1 epoch == 4h tesla k80.\n",
    "\n",
    "### Entraînement plus rapide sur un échantillon\n",
    "\n",
    "Ici, nous allons réduire considérablement le temps de formation en utilisant la technique du early stopping. Nous limiterons également l'apprentissage à un échantillon de l'ensemble de données. Dans un contexte de production, nous utiliserions l'ensemble des données. Même dans le cas du réglage fin d'un modèle, comme souvent en apprentissage profond, plus il y a de données, mieux c'est. "
   ]
  },
  {
   "cell_type": "code",
   "execution_count": null,
   "id": "286f9812",
   "metadata": {
    "id": "286f9812"
   },
   "outputs": [],
   "source": [
    "# Building a model with early stopping policy \n",
    "# BaseEstimator class allows to implement an estimator in a sklearn fashion\n",
    "class CustomizedCamembert(BaseEstimator):\n",
    "    def __init__(self, transformers_model, max_epoches, batch_size, validation_data):\n",
    "        self.model = transformers_model\n",
    "        self.max_epoches = max_epoches\n",
    "        self.batch_size = batch_size\n",
    "        self.validation_data = validation_data\n",
    "        \n",
    "    def fit(self, X, y):\n",
    "        early_stopping = tf.keras.callbacks.CustomizedCamembert(\n",
    "            monitor='val_loss', mode='auto', patience=2, verbose=1, restore_best_weights=True)        \n",
    "        # trains model\n",
    "        self.model.fit(\n",
    "            X, y, validation_data=self.validation_data,\n",
    "            epochs=self.max_epoches, batch_size=self.batch_size,\n",
    "            callbacks=[early_stopping], verbose=1)        \n",
    "        return self\n",
    "    \n",
    "    def predict(self, X):        \n",
    "        scores = self.model.predict(X)\n",
    "        # get highest proba from softmax fn\n",
    "        y_pred = np.argmax(scores[0], axis=1)\n",
    "        return y_pred"
   ]
  },
  {
   "cell_type": "markdown",
   "id": "433a40a0",
   "metadata": {},
   "source": [
    "Ici on définit la fonction d'entraînement faisant appel au modèle précédemment définit."
   ]
  },
  {
   "cell_type": "code",
   "execution_count": null,
   "id": "3c2c398b",
   "metadata": {
    "id": "3c2c398b"
   },
   "outputs": [],
   "source": [
    "# here we define the whole training loop fn\n",
    "def training_loop(camembert_model, initial_weights, sizes,\n",
    "                        enc_train_reviews, train_labels,\n",
    "                        enc_val_reviews, val_labels,\n",
    "                        enc_test_reviews, test_labels):\n",
    "\n",
    "    test_accuracies = []\n",
    "    for size in sizes:        \n",
    "        enc_train_reviews = enc_train_reviews[:size]\n",
    "        y_train = train_labels[:size]\n",
    "        enc_val_reviews = enc_val_reviews[:size]\n",
    "        y_val = val_labels[:size]\n",
    "        enc_test_reviews = enc_test_reviews[:size]\n",
    "        y_test = test_labels[:size]\n",
    "        \n",
    "        # Reset weights to initial value\n",
    "        # Putting a super low epoch numbers cause of time constraints\n",
    "        # In a production setting, set a higher number (10/20)\n",
    "        camembert_model.set_weights(initial_weights)\n",
    "        best_model = CustomizedCamembert(\n",
    "            camembert_model, max_epoches=2, batch_size=4,\n",
    "            validation_data=(enc_val_reviews, y_val))\n",
    "        \n",
    "        # trains model\n",
    "        best_model.fit(enc_train_reviews, y_train)\n",
    "        \n",
    "        # tests model\n",
    "        y_pred = best_model.predict(enc_test_reviews)\n",
    "        test_acc = metrics.accuracy_score(y_test, y_pred)\n",
    "        test_accuracies.append(test_acc)\n",
    "        print(\"Test accuracy: \" + str(test_acc))\n",
    "        \n",
    "    return test_accuracies    \n"
   ]
  },
  {
   "cell_type": "code",
   "execution_count": null,
   "id": "b1aab84e",
   "metadata": {
    "colab": {
     "base_uri": "https://localhost:8080/"
    },
    "id": "b1aab84e",
    "outputId": "f5a1f479-3abd-4677-bc2b-d326b94ca6b2"
   },
   "outputs": [
    {
     "name": "stdout",
     "output_type": "stream",
     "text": [
      "Model: \"tf_camembert_for_sequence_classification\"\n",
      "_________________________________________________________________\n",
      " Layer (type)                Output Shape              Param #   \n",
      "=================================================================\n",
      " roberta (TFRobertaMainLayer  multiple                 110031360 \n",
      " )                                                               \n",
      "                                                                 \n",
      " classifier (TFRobertaClassi  multiple                 592130    \n",
      " ficationHead)                                                   \n",
      "                                                                 \n",
      "=================================================================\n",
      "Total params: 110,623,490\n",
      "Trainable params: 110,623,490\n",
      "Non-trainable params: 0\n",
      "_________________________________________________________________\n"
     ]
    }
   ],
   "source": [
    "init_weights = model.get_weights()\n",
    "model.summary()"
   ]
  },
  {
   "cell_type": "code",
   "execution_count": null,
   "id": "a15d4bf1",
   "metadata": {
    "id": "a15d4bf1"
   },
   "outputs": [],
   "source": [
    "# the more data the better, but because of time constraints, using a sample\n",
    "# after multiple tries, 10k training reviews already bring a good acc\n",
    "\n",
    "samples = [10000] # [1000, 10000, 50000, 100000]\n",
    "test_acc = training_loop(model, init_weights, samples, \n",
    "                         encoded_train, y_train,\n",
    "                         encoded_valid, y_val, \n",
    "                         encoded_test, y_test)"
   ]
  },
  {
   "cell_type": "code",
   "execution_count": null,
   "id": "4a31cad5",
   "metadata": {
    "id": "4a31cad5"
   },
   "outputs": [],
   "source": [
    "# saving the weight of the best finetuned model \n",
    "model.save_weights('/content/drive/MyDrive/Projets/camembert_weights.hdf5')"
   ]
  },
  {
   "cell_type": "markdown",
   "id": "a2502c40",
   "metadata": {
    "id": "a2502c40"
   },
   "source": [
    "## Testing the best model"
   ]
  },
  {
   "cell_type": "code",
   "execution_count": null,
   "id": "193cd137",
   "metadata": {
    "colab": {
     "base_uri": "https://localhost:8080/"
    },
    "id": "193cd137",
    "outputId": "b348753c-ab99-4b99-bb38-33b658329cd1"
   },
   "outputs": [
    {
     "name": "stdout",
     "output_type": "stream",
     "text": [
      "              precision    recall  f1-score   support\n",
      "\n",
      "           0       0.98      0.94      0.96     10408\n",
      "           1       0.94      0.98      0.96      9592\n",
      "\n",
      "    accuracy                           0.96     20000\n",
      "   macro avg       0.96      0.96      0.96     20000\n",
      "weighted avg       0.96      0.96      0.96     20000\n",
      "\n"
     ]
    }
   ],
   "source": [
    "model.load_weights('/content/drive/MyDrive/Projets/camembert_weights.hdf5')\n",
    "\n",
    "scores = model.predict(encode_reviews(tokenizer, df['test_set']['review'], MAX_LEN))\n",
    "y_pred = np.argmax(scores[0], axis=1)\n",
    "\n",
    "print(metrics.classification_report(y_test, y_pred))\n"
   ]
  },
  {
   "cell_type": "code",
   "execution_count": null,
   "id": "05feef84",
   "metadata": {
    "id": "05feef84"
   },
   "outputs": [],
   "source": [
    "encoded_test = encode_reviews(tokenizer, df['test_set']['review'], MAX_LEN)\n",
    "\n",
    "times = []\n",
    "for i in range(500):\n",
    "    x = {'input_ids': np.array([encoded_test['input_ids'][i], ]),\n",
    "    'attention_mask':  np.array([encoded_test['attention_mask'][i], ])}\n",
    "    t0 = time.time()\n",
    "    y_pred = model.predict(x)\n",
    "    t1 = time.time()\n",
    "    times.append(t1 - t0)    "
   ]
  },
  {
   "cell_type": "code",
   "execution_count": null,
   "id": "axrKFqkVPMk_",
   "metadata": {
    "colab": {
     "base_uri": "https://localhost:8080/"
    },
    "id": "axrKFqkVPMk_",
    "outputId": "451ae252-0e6d-4262-f20f-205be5ebfbdb"
   },
   "outputs": [
    {
     "data": {
      "text/plain": [
       "0.13456082940101624"
      ]
     },
     "execution_count": 48,
     "metadata": {},
     "output_type": "execute_result"
    }
   ],
   "source": [
    "np.mean(times)"
   ]
  },
  {
   "cell_type": "markdown",
   "id": "f6d50ca9",
   "metadata": {
    "id": "W4HJDMU_Roa1"
   },
   "source": [
    "Ici, il y a un gain en accuracy assez net par rapport aux modèles de type RNN ou même aux word embeddings plus basiques. \n",
    "\n",
    "Mais ce gain se fait au prix d'un temps d'inférence en moyenne 3 fois supérieur. \n",
    "\n",
    "Suivant le nombre d'appels à l'API, les besoins en accuracy ou même notre budget d'exploitation, il faudra réaliser un arbitrage. Ici, il s'agit d'un projet à but pédagogique. Nous allons donc implémenter le modèle le plus performant : Camembert."
   ]
  }
 ],
 "metadata": {
  "accelerator": "GPU",
  "colab": {
   "collapsed_sections": [],
   "name": "sentiment_analysis_transfo.ipynb",
   "provenance": []
  },
  "kernelspec": {
   "display_name": "Python 3 (ipykernel)",
   "language": "python",
   "name": "python3"
  },
  "language_info": {
   "codemirror_mode": {
    "name": "ipython",
    "version": 3
   },
   "file_extension": ".py",
   "mimetype": "text/x-python",
   "name": "python",
   "nbconvert_exporter": "python",
   "pygments_lexer": "ipython3",
   "version": "3.8.10"
  },
  "widgets": {
   "application/vnd.jupyter.widget-state+json": {
    "095d885f2766452aa2e481842c227c30": {
     "model_module": "@jupyter-widgets/base",
     "model_module_version": "1.2.0",
     "model_name": "LayoutModel",
     "state": {
      "_model_module": "@jupyter-widgets/base",
      "_model_module_version": "1.2.0",
      "_model_name": "LayoutModel",
      "_view_count": null,
      "_view_module": "@jupyter-widgets/base",
      "_view_module_version": "1.2.0",
      "_view_name": "LayoutView",
      "align_content": null,
      "align_items": null,
      "align_self": null,
      "border": null,
      "bottom": null,
      "display": null,
      "flex": null,
      "flex_flow": null,
      "grid_area": null,
      "grid_auto_columns": null,
      "grid_auto_flow": null,
      "grid_auto_rows": null,
      "grid_column": null,
      "grid_gap": null,
      "grid_row": null,
      "grid_template_areas": null,
      "grid_template_columns": null,
      "grid_template_rows": null,
      "height": null,
      "justify_content": null,
      "justify_items": null,
      "left": null,
      "margin": null,
      "max_height": null,
      "max_width": null,
      "min_height": null,
      "min_width": null,
      "object_fit": null,
      "object_position": null,
      "order": null,
      "overflow": null,
      "overflow_x": null,
      "overflow_y": null,
      "padding": null,
      "right": null,
      "top": null,
      "visibility": null,
      "width": null
     }
    },
    "11b39b4b8afd4d7e8b56ab1f5807c78a": {
     "model_module": "@jupyter-widgets/controls",
     "model_module_version": "1.5.0",
     "model_name": "HBoxModel",
     "state": {
      "_dom_classes": [],
      "_model_module": "@jupyter-widgets/controls",
      "_model_module_version": "1.5.0",
      "_model_name": "HBoxModel",
      "_view_count": null,
      "_view_module": "@jupyter-widgets/controls",
      "_view_module_version": "1.5.0",
      "_view_name": "HBoxView",
      "box_style": "",
      "children": [
       "IPY_MODEL_84d6366558fc4dfcafda1df1712b1bb8",
       "IPY_MODEL_9955ffb5938c4ca1a9ed8afc22596f44",
       "IPY_MODEL_3aeadb8a6b5f428eb50a492be8ac0a43"
      ],
      "layout": "IPY_MODEL_bb0adc3cd34348d2baa436fc8d8bf965"
     }
    },
    "238d93c8e5184f61af527d04b1444b73": {
     "model_module": "@jupyter-widgets/base",
     "model_module_version": "1.2.0",
     "model_name": "LayoutModel",
     "state": {
      "_model_module": "@jupyter-widgets/base",
      "_model_module_version": "1.2.0",
      "_model_name": "LayoutModel",
      "_view_count": null,
      "_view_module": "@jupyter-widgets/base",
      "_view_module_version": "1.2.0",
      "_view_name": "LayoutView",
      "align_content": null,
      "align_items": null,
      "align_self": null,
      "border": null,
      "bottom": null,
      "display": null,
      "flex": null,
      "flex_flow": null,
      "grid_area": null,
      "grid_auto_columns": null,
      "grid_auto_flow": null,
      "grid_auto_rows": null,
      "grid_column": null,
      "grid_gap": null,
      "grid_row": null,
      "grid_template_areas": null,
      "grid_template_columns": null,
      "grid_template_rows": null,
      "height": null,
      "justify_content": null,
      "justify_items": null,
      "left": null,
      "margin": null,
      "max_height": null,
      "max_width": null,
      "min_height": null,
      "min_width": null,
      "object_fit": null,
      "object_position": null,
      "order": null,
      "overflow": null,
      "overflow_x": null,
      "overflow_y": null,
      "padding": null,
      "right": null,
      "top": null,
      "visibility": null,
      "width": null
     }
    },
    "2f1ef18417524c6a8ea05e1e26436bcc": {
     "model_module": "@jupyter-widgets/controls",
     "model_module_version": "1.5.0",
     "model_name": "HBoxModel",
     "state": {
      "_dom_classes": [],
      "_model_module": "@jupyter-widgets/controls",
      "_model_module_version": "1.5.0",
      "_model_name": "HBoxModel",
      "_view_count": null,
      "_view_module": "@jupyter-widgets/controls",
      "_view_module_version": "1.5.0",
      "_view_name": "HBoxView",
      "box_style": "",
      "children": [
       "IPY_MODEL_36820056d58541a2a50382d91aad38ba",
       "IPY_MODEL_6262ec8194d442bdb2beb6e86a1bb4c8",
       "IPY_MODEL_366443ac2e494445b270e136030cdf0f"
      ],
      "layout": "IPY_MODEL_56585d7f303e41b6b4d0277b338c4f55"
     }
    },
    "366443ac2e494445b270e136030cdf0f": {
     "model_module": "@jupyter-widgets/controls",
     "model_module_version": "1.5.0",
     "model_name": "HTMLModel",
     "state": {
      "_dom_classes": [],
      "_model_module": "@jupyter-widgets/controls",
      "_model_module_version": "1.5.0",
      "_model_name": "HTMLModel",
      "_view_count": null,
      "_view_module": "@jupyter-widgets/controls",
      "_view_module_version": "1.5.0",
      "_view_name": "HTMLView",
      "description": "",
      "description_tooltip": null,
      "layout": "IPY_MODEL_238d93c8e5184f61af527d04b1444b73",
      "placeholder": "​",
      "style": "IPY_MODEL_53b0495bcb944e569d9eb226ec091881",
      "value": " 792k/792k [00:00&lt;00:00, 1.13MB/s]"
     }
    },
    "36820056d58541a2a50382d91aad38ba": {
     "model_module": "@jupyter-widgets/controls",
     "model_module_version": "1.5.0",
     "model_name": "HTMLModel",
     "state": {
      "_dom_classes": [],
      "_model_module": "@jupyter-widgets/controls",
      "_model_module_version": "1.5.0",
      "_model_name": "HTMLModel",
      "_view_count": null,
      "_view_module": "@jupyter-widgets/controls",
      "_view_module_version": "1.5.0",
      "_view_name": "HTMLView",
      "description": "",
      "description_tooltip": null,
      "layout": "IPY_MODEL_7d1a6b18cffe42268c48c6901dd2e308",
      "placeholder": "​",
      "style": "IPY_MODEL_feed79fd98354265bfb93fc7dddf6c56",
      "value": "Downloading: 100%"
     }
    },
    "36fdb0a65a584fc680a880ae2aeaf81a": {
     "model_module": "@jupyter-widgets/base",
     "model_module_version": "1.2.0",
     "model_name": "LayoutModel",
     "state": {
      "_model_module": "@jupyter-widgets/base",
      "_model_module_version": "1.2.0",
      "_model_name": "LayoutModel",
      "_view_count": null,
      "_view_module": "@jupyter-widgets/base",
      "_view_module_version": "1.2.0",
      "_view_name": "LayoutView",
      "align_content": null,
      "align_items": null,
      "align_self": null,
      "border": null,
      "bottom": null,
      "display": null,
      "flex": null,
      "flex_flow": null,
      "grid_area": null,
      "grid_auto_columns": null,
      "grid_auto_flow": null,
      "grid_auto_rows": null,
      "grid_column": null,
      "grid_gap": null,
      "grid_row": null,
      "grid_template_areas": null,
      "grid_template_columns": null,
      "grid_template_rows": null,
      "height": null,
      "justify_content": null,
      "justify_items": null,
      "left": null,
      "margin": null,
      "max_height": null,
      "max_width": null,
      "min_height": null,
      "min_width": null,
      "object_fit": null,
      "object_position": null,
      "order": null,
      "overflow": null,
      "overflow_x": null,
      "overflow_y": null,
      "padding": null,
      "right": null,
      "top": null,
      "visibility": null,
      "width": null
     }
    },
    "3aeadb8a6b5f428eb50a492be8ac0a43": {
     "model_module": "@jupyter-widgets/controls",
     "model_module_version": "1.5.0",
     "model_name": "HTMLModel",
     "state": {
      "_dom_classes": [],
      "_model_module": "@jupyter-widgets/controls",
      "_model_module_version": "1.5.0",
      "_model_name": "HTMLModel",
      "_view_count": null,
      "_view_module": "@jupyter-widgets/controls",
      "_view_module_version": "1.5.0",
      "_view_name": "HTMLView",
      "description": "",
      "description_tooltip": null,
      "layout": "IPY_MODEL_a54171da5d224dc581fc1f1614af65ba",
      "placeholder": "​",
      "style": "IPY_MODEL_cd2046a63a454ed8967d7b9921fcec27",
      "value": " 520M/520M [00:09&lt;00:00, 63.8MB/s]"
     }
    },
    "451b05ac928a43bf8b8e2244ab2c4a1e": {
     "model_module": "@jupyter-widgets/controls",
     "model_module_version": "1.5.0",
     "model_name": "DescriptionStyleModel",
     "state": {
      "_model_module": "@jupyter-widgets/controls",
      "_model_module_version": "1.5.0",
      "_model_name": "DescriptionStyleModel",
      "_view_count": null,
      "_view_module": "@jupyter-widgets/base",
      "_view_module_version": "1.2.0",
      "_view_name": "StyleView",
      "description_width": ""
     }
    },
    "4a746e791d134ed0b9c5627a6dc0e782": {
     "model_module": "@jupyter-widgets/controls",
     "model_module_version": "1.5.0",
     "model_name": "HTMLModel",
     "state": {
      "_dom_classes": [],
      "_model_module": "@jupyter-widgets/controls",
      "_model_module_version": "1.5.0",
      "_model_name": "HTMLModel",
      "_view_count": null,
      "_view_module": "@jupyter-widgets/controls",
      "_view_module_version": "1.5.0",
      "_view_name": "HTMLView",
      "description": "",
      "description_tooltip": null,
      "layout": "IPY_MODEL_bafbc6f99f42400faebc01745654aeff",
      "placeholder": "​",
      "style": "IPY_MODEL_634a16f808744fd1b096de42d4c57439",
      "value": " 508/508 [00:00&lt;00:00, 15.8kB/s]"
     }
    },
    "52f45eae02674111b19bc7d21ad5d050": {
     "model_module": "@jupyter-widgets/controls",
     "model_module_version": "1.5.0",
     "model_name": "ProgressStyleModel",
     "state": {
      "_model_module": "@jupyter-widgets/controls",
      "_model_module_version": "1.5.0",
      "_model_name": "ProgressStyleModel",
      "_view_count": null,
      "_view_module": "@jupyter-widgets/base",
      "_view_module_version": "1.2.0",
      "_view_name": "StyleView",
      "bar_color": null,
      "description_width": ""
     }
    },
    "53b0495bcb944e569d9eb226ec091881": {
     "model_module": "@jupyter-widgets/controls",
     "model_module_version": "1.5.0",
     "model_name": "DescriptionStyleModel",
     "state": {
      "_model_module": "@jupyter-widgets/controls",
      "_model_module_version": "1.5.0",
      "_model_name": "DescriptionStyleModel",
      "_view_count": null,
      "_view_module": "@jupyter-widgets/base",
      "_view_module_version": "1.2.0",
      "_view_name": "StyleView",
      "description_width": ""
     }
    },
    "56585d7f303e41b6b4d0277b338c4f55": {
     "model_module": "@jupyter-widgets/base",
     "model_module_version": "1.2.0",
     "model_name": "LayoutModel",
     "state": {
      "_model_module": "@jupyter-widgets/base",
      "_model_module_version": "1.2.0",
      "_model_name": "LayoutModel",
      "_view_count": null,
      "_view_module": "@jupyter-widgets/base",
      "_view_module_version": "1.2.0",
      "_view_name": "LayoutView",
      "align_content": null,
      "align_items": null,
      "align_self": null,
      "border": null,
      "bottom": null,
      "display": null,
      "flex": null,
      "flex_flow": null,
      "grid_area": null,
      "grid_auto_columns": null,
      "grid_auto_flow": null,
      "grid_auto_rows": null,
      "grid_column": null,
      "grid_gap": null,
      "grid_row": null,
      "grid_template_areas": null,
      "grid_template_columns": null,
      "grid_template_rows": null,
      "height": null,
      "justify_content": null,
      "justify_items": null,
      "left": null,
      "margin": null,
      "max_height": null,
      "max_width": null,
      "min_height": null,
      "min_width": null,
      "object_fit": null,
      "object_position": null,
      "order": null,
      "overflow": null,
      "overflow_x": null,
      "overflow_y": null,
      "padding": null,
      "right": null,
      "top": null,
      "visibility": null,
      "width": null
     }
    },
    "6262ec8194d442bdb2beb6e86a1bb4c8": {
     "model_module": "@jupyter-widgets/controls",
     "model_module_version": "1.5.0",
     "model_name": "FloatProgressModel",
     "state": {
      "_dom_classes": [],
      "_model_module": "@jupyter-widgets/controls",
      "_model_module_version": "1.5.0",
      "_model_name": "FloatProgressModel",
      "_view_count": null,
      "_view_module": "@jupyter-widgets/controls",
      "_view_module_version": "1.5.0",
      "_view_name": "ProgressView",
      "bar_style": "success",
      "description": "",
      "description_tooltip": null,
      "layout": "IPY_MODEL_095d885f2766452aa2e481842c227c30",
      "max": 810912,
      "min": 0,
      "orientation": "horizontal",
      "style": "IPY_MODEL_fc63c62cbdc24b3d92fe3cf786a49fa7",
      "value": 810912
     }
    },
    "634a16f808744fd1b096de42d4c57439": {
     "model_module": "@jupyter-widgets/controls",
     "model_module_version": "1.5.0",
     "model_name": "DescriptionStyleModel",
     "state": {
      "_model_module": "@jupyter-widgets/controls",
      "_model_module_version": "1.5.0",
      "_model_name": "DescriptionStyleModel",
      "_view_count": null,
      "_view_module": "@jupyter-widgets/base",
      "_view_module_version": "1.2.0",
      "_view_name": "StyleView",
      "description_width": ""
     }
    },
    "64969adad4d240f0bc911ebdc822f03f": {
     "model_module": "@jupyter-widgets/base",
     "model_module_version": "1.2.0",
     "model_name": "LayoutModel",
     "state": {
      "_model_module": "@jupyter-widgets/base",
      "_model_module_version": "1.2.0",
      "_model_name": "LayoutModel",
      "_view_count": null,
      "_view_module": "@jupyter-widgets/base",
      "_view_module_version": "1.2.0",
      "_view_name": "LayoutView",
      "align_content": null,
      "align_items": null,
      "align_self": null,
      "border": null,
      "bottom": null,
      "display": null,
      "flex": null,
      "flex_flow": null,
      "grid_area": null,
      "grid_auto_columns": null,
      "grid_auto_flow": null,
      "grid_auto_rows": null,
      "grid_column": null,
      "grid_gap": null,
      "grid_row": null,
      "grid_template_areas": null,
      "grid_template_columns": null,
      "grid_template_rows": null,
      "height": null,
      "justify_content": null,
      "justify_items": null,
      "left": null,
      "margin": null,
      "max_height": null,
      "max_width": null,
      "min_height": null,
      "min_width": null,
      "object_fit": null,
      "object_position": null,
      "order": null,
      "overflow": null,
      "overflow_x": null,
      "overflow_y": null,
      "padding": null,
      "right": null,
      "top": null,
      "visibility": null,
      "width": null
     }
    },
    "68531cf0005b4606bf23868c461d7f5e": {
     "model_module": "@jupyter-widgets/controls",
     "model_module_version": "1.5.0",
     "model_name": "HBoxModel",
     "state": {
      "_dom_classes": [],
      "_model_module": "@jupyter-widgets/controls",
      "_model_module_version": "1.5.0",
      "_model_name": "HBoxModel",
      "_view_count": null,
      "_view_module": "@jupyter-widgets/controls",
      "_view_module_version": "1.5.0",
      "_view_name": "HBoxView",
      "box_style": "",
      "children": [
       "IPY_MODEL_6bedfc9e32264457ba45dd4e21fb64ca",
       "IPY_MODEL_9d6fdb724ed24214ba5d081cb8ee9b78",
       "IPY_MODEL_f6d5515833ea4e2993d63a24eb7d7420"
      ],
      "layout": "IPY_MODEL_36fdb0a65a584fc680a880ae2aeaf81a"
     }
    },
    "6bedfc9e32264457ba45dd4e21fb64ca": {
     "model_module": "@jupyter-widgets/controls",
     "model_module_version": "1.5.0",
     "model_name": "HTMLModel",
     "state": {
      "_dom_classes": [],
      "_model_module": "@jupyter-widgets/controls",
      "_model_module_version": "1.5.0",
      "_model_name": "HTMLModel",
      "_view_count": null,
      "_view_module": "@jupyter-widgets/controls",
      "_view_module_version": "1.5.0",
      "_view_name": "HTMLView",
      "description": "",
      "description_tooltip": null,
      "layout": "IPY_MODEL_e9f34dac988c42fea9c7bfad1a1f2be2",
      "placeholder": "​",
      "style": "IPY_MODEL_c5acfe1a9b324709a23c58f321ef4e44",
      "value": "Downloading: 100%"
     }
    },
    "6bf4de32493545ca96b08a0e071d7f57": {
     "model_module": "@jupyter-widgets/controls",
     "model_module_version": "1.5.0",
     "model_name": "DescriptionStyleModel",
     "state": {
      "_model_module": "@jupyter-widgets/controls",
      "_model_module_version": "1.5.0",
      "_model_name": "DescriptionStyleModel",
      "_view_count": null,
      "_view_module": "@jupyter-widgets/base",
      "_view_module_version": "1.2.0",
      "_view_name": "StyleView",
      "description_width": ""
     }
    },
    "6fed2150bec14def84eaf7704ae2c00f": {
     "model_module": "@jupyter-widgets/controls",
     "model_module_version": "1.5.0",
     "model_name": "ProgressStyleModel",
     "state": {
      "_model_module": "@jupyter-widgets/controls",
      "_model_module_version": "1.5.0",
      "_model_name": "ProgressStyleModel",
      "_view_count": null,
      "_view_module": "@jupyter-widgets/base",
      "_view_module_version": "1.2.0",
      "_view_name": "StyleView",
      "bar_color": null,
      "description_width": ""
     }
    },
    "7d1a6b18cffe42268c48c6901dd2e308": {
     "model_module": "@jupyter-widgets/base",
     "model_module_version": "1.2.0",
     "model_name": "LayoutModel",
     "state": {
      "_model_module": "@jupyter-widgets/base",
      "_model_module_version": "1.2.0",
      "_model_name": "LayoutModel",
      "_view_count": null,
      "_view_module": "@jupyter-widgets/base",
      "_view_module_version": "1.2.0",
      "_view_name": "LayoutView",
      "align_content": null,
      "align_items": null,
      "align_self": null,
      "border": null,
      "bottom": null,
      "display": null,
      "flex": null,
      "flex_flow": null,
      "grid_area": null,
      "grid_auto_columns": null,
      "grid_auto_flow": null,
      "grid_auto_rows": null,
      "grid_column": null,
      "grid_gap": null,
      "grid_row": null,
      "grid_template_areas": null,
      "grid_template_columns": null,
      "grid_template_rows": null,
      "height": null,
      "justify_content": null,
      "justify_items": null,
      "left": null,
      "margin": null,
      "max_height": null,
      "max_width": null,
      "min_height": null,
      "min_width": null,
      "object_fit": null,
      "object_position": null,
      "order": null,
      "overflow": null,
      "overflow_x": null,
      "overflow_y": null,
      "padding": null,
      "right": null,
      "top": null,
      "visibility": null,
      "width": null
     }
    },
    "80a7b80fdd63436b95c2d50413f0f0e9": {
     "model_module": "@jupyter-widgets/base",
     "model_module_version": "1.2.0",
     "model_name": "LayoutModel",
     "state": {
      "_model_module": "@jupyter-widgets/base",
      "_model_module_version": "1.2.0",
      "_model_name": "LayoutModel",
      "_view_count": null,
      "_view_module": "@jupyter-widgets/base",
      "_view_module_version": "1.2.0",
      "_view_name": "LayoutView",
      "align_content": null,
      "align_items": null,
      "align_self": null,
      "border": null,
      "bottom": null,
      "display": null,
      "flex": null,
      "flex_flow": null,
      "grid_area": null,
      "grid_auto_columns": null,
      "grid_auto_flow": null,
      "grid_auto_rows": null,
      "grid_column": null,
      "grid_gap": null,
      "grid_row": null,
      "grid_template_areas": null,
      "grid_template_columns": null,
      "grid_template_rows": null,
      "height": null,
      "justify_content": null,
      "justify_items": null,
      "left": null,
      "margin": null,
      "max_height": null,
      "max_width": null,
      "min_height": null,
      "min_width": null,
      "object_fit": null,
      "object_position": null,
      "order": null,
      "overflow": null,
      "overflow_x": null,
      "overflow_y": null,
      "padding": null,
      "right": null,
      "top": null,
      "visibility": null,
      "width": null
     }
    },
    "84d6366558fc4dfcafda1df1712b1bb8": {
     "model_module": "@jupyter-widgets/controls",
     "model_module_version": "1.5.0",
     "model_name": "HTMLModel",
     "state": {
      "_dom_classes": [],
      "_model_module": "@jupyter-widgets/controls",
      "_model_module_version": "1.5.0",
      "_model_name": "HTMLModel",
      "_view_count": null,
      "_view_module": "@jupyter-widgets/controls",
      "_view_module_version": "1.5.0",
      "_view_name": "HTMLView",
      "description": "",
      "description_tooltip": null,
      "layout": "IPY_MODEL_eb28ffe7f9214cd8b5b9a09435efe73f",
      "placeholder": "​",
      "style": "IPY_MODEL_6bf4de32493545ca96b08a0e071d7f57",
      "value": "Downloading: 100%"
     }
    },
    "9955ffb5938c4ca1a9ed8afc22596f44": {
     "model_module": "@jupyter-widgets/controls",
     "model_module_version": "1.5.0",
     "model_name": "FloatProgressModel",
     "state": {
      "_dom_classes": [],
      "_model_module": "@jupyter-widgets/controls",
      "_model_module_version": "1.5.0",
      "_model_name": "FloatProgressModel",
      "_view_count": null,
      "_view_module": "@jupyter-widgets/controls",
      "_view_module_version": "1.5.0",
      "_view_name": "ProgressView",
      "bar_style": "success",
      "description": "",
      "description_tooltip": null,
      "layout": "IPY_MODEL_a90655ddae9e4a3698aa1b2f3cf2d1d1",
      "max": 545172724,
      "min": 0,
      "orientation": "horizontal",
      "style": "IPY_MODEL_6fed2150bec14def84eaf7704ae2c00f",
      "value": 545172724
     }
    },
    "99b3cc3264fa42b08aa4f0606233e4ee": {
     "model_module": "@jupyter-widgets/base",
     "model_module_version": "1.2.0",
     "model_name": "LayoutModel",
     "state": {
      "_model_module": "@jupyter-widgets/base",
      "_model_module_version": "1.2.0",
      "_model_name": "LayoutModel",
      "_view_count": null,
      "_view_module": "@jupyter-widgets/base",
      "_view_module_version": "1.2.0",
      "_view_name": "LayoutView",
      "align_content": null,
      "align_items": null,
      "align_self": null,
      "border": null,
      "bottom": null,
      "display": null,
      "flex": null,
      "flex_flow": null,
      "grid_area": null,
      "grid_auto_columns": null,
      "grid_auto_flow": null,
      "grid_auto_rows": null,
      "grid_column": null,
      "grid_gap": null,
      "grid_row": null,
      "grid_template_areas": null,
      "grid_template_columns": null,
      "grid_template_rows": null,
      "height": null,
      "justify_content": null,
      "justify_items": null,
      "left": null,
      "margin": null,
      "max_height": null,
      "max_width": null,
      "min_height": null,
      "min_width": null,
      "object_fit": null,
      "object_position": null,
      "order": null,
      "overflow": null,
      "overflow_x": null,
      "overflow_y": null,
      "padding": null,
      "right": null,
      "top": null,
      "visibility": null,
      "width": null
     }
    },
    "9d6fdb724ed24214ba5d081cb8ee9b78": {
     "model_module": "@jupyter-widgets/controls",
     "model_module_version": "1.5.0",
     "model_name": "FloatProgressModel",
     "state": {
      "_dom_classes": [],
      "_model_module": "@jupyter-widgets/controls",
      "_model_module_version": "1.5.0",
      "_model_name": "FloatProgressModel",
      "_view_count": null,
      "_view_module": "@jupyter-widgets/controls",
      "_view_module_version": "1.5.0",
      "_view_name": "ProgressView",
      "bar_style": "success",
      "description": "",
      "description_tooltip": null,
      "layout": "IPY_MODEL_f1acd37ecabb49478c50f689d57db918",
      "max": 508,
      "min": 0,
      "orientation": "horizontal",
      "style": "IPY_MODEL_52f45eae02674111b19bc7d21ad5d050",
      "value": 508
     }
    },
    "a37a602ce5fd414eaa4f1cedb0ddaeef": {
     "model_module": "@jupyter-widgets/controls",
     "model_module_version": "1.5.0",
     "model_name": "ProgressStyleModel",
     "state": {
      "_model_module": "@jupyter-widgets/controls",
      "_model_module_version": "1.5.0",
      "_model_name": "ProgressStyleModel",
      "_view_count": null,
      "_view_module": "@jupyter-widgets/base",
      "_view_module_version": "1.2.0",
      "_view_name": "StyleView",
      "bar_color": null,
      "description_width": ""
     }
    },
    "a54171da5d224dc581fc1f1614af65ba": {
     "model_module": "@jupyter-widgets/base",
     "model_module_version": "1.2.0",
     "model_name": "LayoutModel",
     "state": {
      "_model_module": "@jupyter-widgets/base",
      "_model_module_version": "1.2.0",
      "_model_name": "LayoutModel",
      "_view_count": null,
      "_view_module": "@jupyter-widgets/base",
      "_view_module_version": "1.2.0",
      "_view_name": "LayoutView",
      "align_content": null,
      "align_items": null,
      "align_self": null,
      "border": null,
      "bottom": null,
      "display": null,
      "flex": null,
      "flex_flow": null,
      "grid_area": null,
      "grid_auto_columns": null,
      "grid_auto_flow": null,
      "grid_auto_rows": null,
      "grid_column": null,
      "grid_gap": null,
      "grid_row": null,
      "grid_template_areas": null,
      "grid_template_columns": null,
      "grid_template_rows": null,
      "height": null,
      "justify_content": null,
      "justify_items": null,
      "left": null,
      "margin": null,
      "max_height": null,
      "max_width": null,
      "min_height": null,
      "min_width": null,
      "object_fit": null,
      "object_position": null,
      "order": null,
      "overflow": null,
      "overflow_x": null,
      "overflow_y": null,
      "padding": null,
      "right": null,
      "top": null,
      "visibility": null,
      "width": null
     }
    },
    "a90655ddae9e4a3698aa1b2f3cf2d1d1": {
     "model_module": "@jupyter-widgets/base",
     "model_module_version": "1.2.0",
     "model_name": "LayoutModel",
     "state": {
      "_model_module": "@jupyter-widgets/base",
      "_model_module_version": "1.2.0",
      "_model_name": "LayoutModel",
      "_view_count": null,
      "_view_module": "@jupyter-widgets/base",
      "_view_module_version": "1.2.0",
      "_view_name": "LayoutView",
      "align_content": null,
      "align_items": null,
      "align_self": null,
      "border": null,
      "bottom": null,
      "display": null,
      "flex": null,
      "flex_flow": null,
      "grid_area": null,
      "grid_auto_columns": null,
      "grid_auto_flow": null,
      "grid_auto_rows": null,
      "grid_column": null,
      "grid_gap": null,
      "grid_row": null,
      "grid_template_areas": null,
      "grid_template_columns": null,
      "grid_template_rows": null,
      "height": null,
      "justify_content": null,
      "justify_items": null,
      "left": null,
      "margin": null,
      "max_height": null,
      "max_width": null,
      "min_height": null,
      "min_width": null,
      "object_fit": null,
      "object_position": null,
      "order": null,
      "overflow": null,
      "overflow_x": null,
      "overflow_y": null,
      "padding": null,
      "right": null,
      "top": null,
      "visibility": null,
      "width": null
     }
    },
    "ade342d1341c4365a50eb152965142c3": {
     "model_module": "@jupyter-widgets/controls",
     "model_module_version": "1.5.0",
     "model_name": "HBoxModel",
     "state": {
      "_dom_classes": [],
      "_model_module": "@jupyter-widgets/controls",
      "_model_module_version": "1.5.0",
      "_model_name": "HBoxModel",
      "_view_count": null,
      "_view_module": "@jupyter-widgets/controls",
      "_view_module_version": "1.5.0",
      "_view_name": "HBoxView",
      "box_style": "",
      "children": [
       "IPY_MODEL_d074feed0a50404991adcd59f8f56e8b",
       "IPY_MODEL_c15ac7fe882c4097a449e394350bcb6c",
       "IPY_MODEL_4a746e791d134ed0b9c5627a6dc0e782"
      ],
      "layout": "IPY_MODEL_99b3cc3264fa42b08aa4f0606233e4ee"
     }
    },
    "bafbc6f99f42400faebc01745654aeff": {
     "model_module": "@jupyter-widgets/base",
     "model_module_version": "1.2.0",
     "model_name": "LayoutModel",
     "state": {
      "_model_module": "@jupyter-widgets/base",
      "_model_module_version": "1.2.0",
      "_model_name": "LayoutModel",
      "_view_count": null,
      "_view_module": "@jupyter-widgets/base",
      "_view_module_version": "1.2.0",
      "_view_name": "LayoutView",
      "align_content": null,
      "align_items": null,
      "align_self": null,
      "border": null,
      "bottom": null,
      "display": null,
      "flex": null,
      "flex_flow": null,
      "grid_area": null,
      "grid_auto_columns": null,
      "grid_auto_flow": null,
      "grid_auto_rows": null,
      "grid_column": null,
      "grid_gap": null,
      "grid_row": null,
      "grid_template_areas": null,
      "grid_template_columns": null,
      "grid_template_rows": null,
      "height": null,
      "justify_content": null,
      "justify_items": null,
      "left": null,
      "margin": null,
      "max_height": null,
      "max_width": null,
      "min_height": null,
      "min_width": null,
      "object_fit": null,
      "object_position": null,
      "order": null,
      "overflow": null,
      "overflow_x": null,
      "overflow_y": null,
      "padding": null,
      "right": null,
      "top": null,
      "visibility": null,
      "width": null
     }
    },
    "bb0adc3cd34348d2baa436fc8d8bf965": {
     "model_module": "@jupyter-widgets/base",
     "model_module_version": "1.2.0",
     "model_name": "LayoutModel",
     "state": {
      "_model_module": "@jupyter-widgets/base",
      "_model_module_version": "1.2.0",
      "_model_name": "LayoutModel",
      "_view_count": null,
      "_view_module": "@jupyter-widgets/base",
      "_view_module_version": "1.2.0",
      "_view_name": "LayoutView",
      "align_content": null,
      "align_items": null,
      "align_self": null,
      "border": null,
      "bottom": null,
      "display": null,
      "flex": null,
      "flex_flow": null,
      "grid_area": null,
      "grid_auto_columns": null,
      "grid_auto_flow": null,
      "grid_auto_rows": null,
      "grid_column": null,
      "grid_gap": null,
      "grid_row": null,
      "grid_template_areas": null,
      "grid_template_columns": null,
      "grid_template_rows": null,
      "height": null,
      "justify_content": null,
      "justify_items": null,
      "left": null,
      "margin": null,
      "max_height": null,
      "max_width": null,
      "min_height": null,
      "min_width": null,
      "object_fit": null,
      "object_position": null,
      "order": null,
      "overflow": null,
      "overflow_x": null,
      "overflow_y": null,
      "padding": null,
      "right": null,
      "top": null,
      "visibility": null,
      "width": null
     }
    },
    "c15ac7fe882c4097a449e394350bcb6c": {
     "model_module": "@jupyter-widgets/controls",
     "model_module_version": "1.5.0",
     "model_name": "FloatProgressModel",
     "state": {
      "_dom_classes": [],
      "_model_module": "@jupyter-widgets/controls",
      "_model_module_version": "1.5.0",
      "_model_name": "FloatProgressModel",
      "_view_count": null,
      "_view_module": "@jupyter-widgets/controls",
      "_view_module_version": "1.5.0",
      "_view_name": "ProgressView",
      "bar_style": "success",
      "description": "",
      "description_tooltip": null,
      "layout": "IPY_MODEL_80a7b80fdd63436b95c2d50413f0f0e9",
      "max": 508,
      "min": 0,
      "orientation": "horizontal",
      "style": "IPY_MODEL_a37a602ce5fd414eaa4f1cedb0ddaeef",
      "value": 508
     }
    },
    "c5acfe1a9b324709a23c58f321ef4e44": {
     "model_module": "@jupyter-widgets/controls",
     "model_module_version": "1.5.0",
     "model_name": "DescriptionStyleModel",
     "state": {
      "_model_module": "@jupyter-widgets/controls",
      "_model_module_version": "1.5.0",
      "_model_name": "DescriptionStyleModel",
      "_view_count": null,
      "_view_module": "@jupyter-widgets/base",
      "_view_module_version": "1.2.0",
      "_view_name": "StyleView",
      "description_width": ""
     }
    },
    "cd2046a63a454ed8967d7b9921fcec27": {
     "model_module": "@jupyter-widgets/controls",
     "model_module_version": "1.5.0",
     "model_name": "DescriptionStyleModel",
     "state": {
      "_model_module": "@jupyter-widgets/controls",
      "_model_module_version": "1.5.0",
      "_model_name": "DescriptionStyleModel",
      "_view_count": null,
      "_view_module": "@jupyter-widgets/base",
      "_view_module_version": "1.2.0",
      "_view_name": "StyleView",
      "description_width": ""
     }
    },
    "d074feed0a50404991adcd59f8f56e8b": {
     "model_module": "@jupyter-widgets/controls",
     "model_module_version": "1.5.0",
     "model_name": "HTMLModel",
     "state": {
      "_dom_classes": [],
      "_model_module": "@jupyter-widgets/controls",
      "_model_module_version": "1.5.0",
      "_model_name": "HTMLModel",
      "_view_count": null,
      "_view_module": "@jupyter-widgets/controls",
      "_view_module_version": "1.5.0",
      "_view_name": "HTMLView",
      "description": "",
      "description_tooltip": null,
      "layout": "IPY_MODEL_dbb1b4c13a574b09ad5f43e0e28c3fed",
      "placeholder": "​",
      "style": "IPY_MODEL_451b05ac928a43bf8b8e2244ab2c4a1e",
      "value": "Downloading: 100%"
     }
    },
    "dbb1b4c13a574b09ad5f43e0e28c3fed": {
     "model_module": "@jupyter-widgets/base",
     "model_module_version": "1.2.0",
     "model_name": "LayoutModel",
     "state": {
      "_model_module": "@jupyter-widgets/base",
      "_model_module_version": "1.2.0",
      "_model_name": "LayoutModel",
      "_view_count": null,
      "_view_module": "@jupyter-widgets/base",
      "_view_module_version": "1.2.0",
      "_view_name": "LayoutView",
      "align_content": null,
      "align_items": null,
      "align_self": null,
      "border": null,
      "bottom": null,
      "display": null,
      "flex": null,
      "flex_flow": null,
      "grid_area": null,
      "grid_auto_columns": null,
      "grid_auto_flow": null,
      "grid_auto_rows": null,
      "grid_column": null,
      "grid_gap": null,
      "grid_row": null,
      "grid_template_areas": null,
      "grid_template_columns": null,
      "grid_template_rows": null,
      "height": null,
      "justify_content": null,
      "justify_items": null,
      "left": null,
      "margin": null,
      "max_height": null,
      "max_width": null,
      "min_height": null,
      "min_width": null,
      "object_fit": null,
      "object_position": null,
      "order": null,
      "overflow": null,
      "overflow_x": null,
      "overflow_y": null,
      "padding": null,
      "right": null,
      "top": null,
      "visibility": null,
      "width": null
     }
    },
    "e9f34dac988c42fea9c7bfad1a1f2be2": {
     "model_module": "@jupyter-widgets/base",
     "model_module_version": "1.2.0",
     "model_name": "LayoutModel",
     "state": {
      "_model_module": "@jupyter-widgets/base",
      "_model_module_version": "1.2.0",
      "_model_name": "LayoutModel",
      "_view_count": null,
      "_view_module": "@jupyter-widgets/base",
      "_view_module_version": "1.2.0",
      "_view_name": "LayoutView",
      "align_content": null,
      "align_items": null,
      "align_self": null,
      "border": null,
      "bottom": null,
      "display": null,
      "flex": null,
      "flex_flow": null,
      "grid_area": null,
      "grid_auto_columns": null,
      "grid_auto_flow": null,
      "grid_auto_rows": null,
      "grid_column": null,
      "grid_gap": null,
      "grid_row": null,
      "grid_template_areas": null,
      "grid_template_columns": null,
      "grid_template_rows": null,
      "height": null,
      "justify_content": null,
      "justify_items": null,
      "left": null,
      "margin": null,
      "max_height": null,
      "max_width": null,
      "min_height": null,
      "min_width": null,
      "object_fit": null,
      "object_position": null,
      "order": null,
      "overflow": null,
      "overflow_x": null,
      "overflow_y": null,
      "padding": null,
      "right": null,
      "top": null,
      "visibility": null,
      "width": null
     }
    },
    "eb28ffe7f9214cd8b5b9a09435efe73f": {
     "model_module": "@jupyter-widgets/base",
     "model_module_version": "1.2.0",
     "model_name": "LayoutModel",
     "state": {
      "_model_module": "@jupyter-widgets/base",
      "_model_module_version": "1.2.0",
      "_model_name": "LayoutModel",
      "_view_count": null,
      "_view_module": "@jupyter-widgets/base",
      "_view_module_version": "1.2.0",
      "_view_name": "LayoutView",
      "align_content": null,
      "align_items": null,
      "align_self": null,
      "border": null,
      "bottom": null,
      "display": null,
      "flex": null,
      "flex_flow": null,
      "grid_area": null,
      "grid_auto_columns": null,
      "grid_auto_flow": null,
      "grid_auto_rows": null,
      "grid_column": null,
      "grid_gap": null,
      "grid_row": null,
      "grid_template_areas": null,
      "grid_template_columns": null,
      "grid_template_rows": null,
      "height": null,
      "justify_content": null,
      "justify_items": null,
      "left": null,
      "margin": null,
      "max_height": null,
      "max_width": null,
      "min_height": null,
      "min_width": null,
      "object_fit": null,
      "object_position": null,
      "order": null,
      "overflow": null,
      "overflow_x": null,
      "overflow_y": null,
      "padding": null,
      "right": null,
      "top": null,
      "visibility": null,
      "width": null
     }
    },
    "ef4aff14988e48da9090e5400f213bf2": {
     "model_module": "@jupyter-widgets/controls",
     "model_module_version": "1.5.0",
     "model_name": "DescriptionStyleModel",
     "state": {
      "_model_module": "@jupyter-widgets/controls",
      "_model_module_version": "1.5.0",
      "_model_name": "DescriptionStyleModel",
      "_view_count": null,
      "_view_module": "@jupyter-widgets/base",
      "_view_module_version": "1.2.0",
      "_view_name": "StyleView",
      "description_width": ""
     }
    },
    "f1acd37ecabb49478c50f689d57db918": {
     "model_module": "@jupyter-widgets/base",
     "model_module_version": "1.2.0",
     "model_name": "LayoutModel",
     "state": {
      "_model_module": "@jupyter-widgets/base",
      "_model_module_version": "1.2.0",
      "_model_name": "LayoutModel",
      "_view_count": null,
      "_view_module": "@jupyter-widgets/base",
      "_view_module_version": "1.2.0",
      "_view_name": "LayoutView",
      "align_content": null,
      "align_items": null,
      "align_self": null,
      "border": null,
      "bottom": null,
      "display": null,
      "flex": null,
      "flex_flow": null,
      "grid_area": null,
      "grid_auto_columns": null,
      "grid_auto_flow": null,
      "grid_auto_rows": null,
      "grid_column": null,
      "grid_gap": null,
      "grid_row": null,
      "grid_template_areas": null,
      "grid_template_columns": null,
      "grid_template_rows": null,
      "height": null,
      "justify_content": null,
      "justify_items": null,
      "left": null,
      "margin": null,
      "max_height": null,
      "max_width": null,
      "min_height": null,
      "min_width": null,
      "object_fit": null,
      "object_position": null,
      "order": null,
      "overflow": null,
      "overflow_x": null,
      "overflow_y": null,
      "padding": null,
      "right": null,
      "top": null,
      "visibility": null,
      "width": null
     }
    },
    "f6d5515833ea4e2993d63a24eb7d7420": {
     "model_module": "@jupyter-widgets/controls",
     "model_module_version": "1.5.0",
     "model_name": "HTMLModel",
     "state": {
      "_dom_classes": [],
      "_model_module": "@jupyter-widgets/controls",
      "_model_module_version": "1.5.0",
      "_model_name": "HTMLModel",
      "_view_count": null,
      "_view_module": "@jupyter-widgets/controls",
      "_view_module_version": "1.5.0",
      "_view_name": "HTMLView",
      "description": "",
      "description_tooltip": null,
      "layout": "IPY_MODEL_64969adad4d240f0bc911ebdc822f03f",
      "placeholder": "​",
      "style": "IPY_MODEL_ef4aff14988e48da9090e5400f213bf2",
      "value": " 508/508 [00:00&lt;00:00, 13.9kB/s]"
     }
    },
    "fc63c62cbdc24b3d92fe3cf786a49fa7": {
     "model_module": "@jupyter-widgets/controls",
     "model_module_version": "1.5.0",
     "model_name": "ProgressStyleModel",
     "state": {
      "_model_module": "@jupyter-widgets/controls",
      "_model_module_version": "1.5.0",
      "_model_name": "ProgressStyleModel",
      "_view_count": null,
      "_view_module": "@jupyter-widgets/base",
      "_view_module_version": "1.2.0",
      "_view_name": "StyleView",
      "bar_color": null,
      "description_width": ""
     }
    },
    "feed79fd98354265bfb93fc7dddf6c56": {
     "model_module": "@jupyter-widgets/controls",
     "model_module_version": "1.5.0",
     "model_name": "DescriptionStyleModel",
     "state": {
      "_model_module": "@jupyter-widgets/controls",
      "_model_module_version": "1.5.0",
      "_model_name": "DescriptionStyleModel",
      "_view_count": null,
      "_view_module": "@jupyter-widgets/base",
      "_view_module_version": "1.2.0",
      "_view_name": "StyleView",
      "description_width": ""
     }
    }
   }
  }
 },
 "nbformat": 4,
 "nbformat_minor": 5
}
